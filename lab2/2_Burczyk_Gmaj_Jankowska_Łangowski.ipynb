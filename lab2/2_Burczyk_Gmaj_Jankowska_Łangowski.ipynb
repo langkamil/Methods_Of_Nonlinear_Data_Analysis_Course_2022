{
 "cells": [
  {
   "cell_type": "code",
   "execution_count": 1,
   "id": "3102fd94",
   "metadata": {},
   "outputs": [],
   "source": [
    "import scipy as sp\n",
    "import sympy as sym\n",
    "import numpy as np\n",
    "import math"
   ]
  },
  {
   "cell_type": "markdown",
   "id": "2f7b4c1d",
   "metadata": {},
   "source": [
    "Definiujemy symbole zmiennych częstotliwości i czasu. "
   ]
  },
  {
   "cell_type": "code",
   "execution_count": 2,
   "id": "24b50894",
   "metadata": {},
   "outputs": [],
   "source": [
    "w = sym.symbols('w', real=True)"
   ]
  },
  {
   "cell_type": "code",
   "execution_count": 3,
   "id": "7bf297b2",
   "metadata": {},
   "outputs": [],
   "source": [
    "t = sym.symbols('t')"
   ]
  },
  {
   "cell_type": "markdown",
   "id": "11361f18",
   "metadata": {},
   "source": [
    "Definiujemy sygnał $x(t)$."
   ]
  },
  {
   "cell_type": "code",
   "execution_count": 4,
   "id": "f7ca8202",
   "metadata": {},
   "outputs": [],
   "source": [
    "x = sym.exp(-2 * (t**2) + 1)"
   ]
  },
  {
   "cell_type": "code",
   "execution_count": 5,
   "id": "d537a1d8",
   "metadata": {},
   "outputs": [
    {
     "data": {
      "text/latex": [
       "$\\displaystyle e^{1 - 2 t^{2}}$"
      ],
      "text/plain": [
       "exp(1 - 2*t**2)"
      ]
     },
     "execution_count": 5,
     "metadata": {},
     "output_type": "execute_result"
    }
   ],
   "source": [
    "x"
   ]
  },
  {
   "cell_type": "markdown",
   "id": "b182f092",
   "metadata": {},
   "source": [
    "Obliczamy CTFT z sygnału $x(t)$."
   ]
  },
  {
   "cell_type": "code",
   "execution_count": 6,
   "id": "917bb5e2",
   "metadata": {},
   "outputs": [],
   "source": [
    "X = sym.simplify(sym.integrate(x * sym.exp(-1j * w * t), (t, -math.inf, math.inf)))"
   ]
  },
  {
   "cell_type": "code",
   "execution_count": 7,
   "id": "3ba48a45",
   "metadata": {},
   "outputs": [
    {
     "data": {
      "text/latex": [
       "$\\displaystyle \\frac{\\sqrt{2} \\sqrt{\\pi} e^{1 - 0.125 w^{2}}}{2}$"
      ],
      "text/plain": [
       "sqrt(2)*sqrt(pi)*exp(1 - 0.125*w**2)/2"
      ]
     },
     "execution_count": 7,
     "metadata": {},
     "output_type": "execute_result"
    }
   ],
   "source": [
    "X"
   ]
  },
  {
   "cell_type": "markdown",
   "id": "f27a87c4",
   "metadata": {},
   "source": [
    "Wynik $X(\\omega)$:"
   ]
  },
  {
   "cell_type": "code",
   "execution_count": 8,
   "id": "eb9dfb4f",
   "metadata": {},
   "outputs": [
    {
     "data": {
      "text/latex": [
       "$\\displaystyle \\frac{\\sqrt{2} \\sqrt{\\pi} e^{1 - 0.125 w^{2}}}{2}$"
      ],
      "text/plain": [
       "sqrt(2)*sqrt(pi)*exp(1 - 0.125*w**2)/2"
      ]
     },
     "execution_count": 8,
     "metadata": {},
     "output_type": "execute_result"
    }
   ],
   "source": [
    "(sym.sqrt(2) * sym.sqrt(sym.pi) * sym.exp(1-0.125*w**2))/2"
   ]
  },
  {
   "cell_type": "markdown",
   "id": "9ae0c5be",
   "metadata": {},
   "source": [
    "Wyniki są takie same. "
   ]
  },
  {
   "cell_type": "markdown",
   "id": "12a6756e",
   "metadata": {},
   "source": [
    "Przechodzimy do obliczenia ICTFT z transformaty $X(\\omega)$. Korzystamy z funkcji upraszczających wynik (nsiplify, simplify, evalf)."
   ]
  },
  {
   "cell_type": "code",
   "execution_count": 9,
   "id": "65182eea",
   "metadata": {
    "scrolled": false
   },
   "outputs": [
    {
     "data": {
      "text/latex": [
       "$\\displaystyle e^{1 - 2 t^{2}}$"
      ],
      "text/plain": [
       "exp(1 - 2*t**2)"
      ]
     },
     "execution_count": 9,
     "metadata": {},
     "output_type": "execute_result"
    }
   ],
   "source": [
    "sym.nsimplify(sym.simplify((sym.integrate(1/(2*sym.pi)*X*sym.exp(1j*w*t),\\\n",
    "                            (w, -math.inf, math.inf)))).evalf(), tolerance = 1)"
   ]
  },
  {
   "cell_type": "markdown",
   "id": "14d36b47",
   "metadata": {},
   "source": [
    "## Twierdzenie Parsevala"
   ]
  },
  {
   "cell_type": "markdown",
   "id": "6c3f7c66",
   "metadata": {},
   "source": [
    "### Lewa"
   ]
  },
  {
   "cell_type": "code",
   "execution_count": 10,
   "id": "bf96ec46",
   "metadata": {},
   "outputs": [
    {
     "data": {
      "text/latex": [
       "$\\displaystyle \\frac{\\sqrt{\\pi} e^{2}}{2}$"
      ],
      "text/plain": [
       "sqrt(pi)*exp(2)/2"
      ]
     },
     "execution_count": 10,
     "metadata": {},
     "output_type": "execute_result"
    }
   ],
   "source": [
    "sym.integrate(sym.Abs(x)**2, (t, -math.inf, math.inf))"
   ]
  },
  {
   "cell_type": "code",
   "execution_count": 11,
   "id": "ba08afdf",
   "metadata": {},
   "outputs": [
    {
     "data": {
      "text/latex": [
       "$\\displaystyle 6.54838046855326$"
      ],
      "text/plain": [
       "6.54838046855326"
      ]
     },
     "execution_count": 11,
     "metadata": {},
     "output_type": "execute_result"
    }
   ],
   "source": [
    "sym.simplify((sym.integrate(sym.Abs(x)**2,\\\n",
    "                            (t, -math.inf, math.inf)))).evalf()"
   ]
  },
  {
   "cell_type": "markdown",
   "id": "da9afb4e",
   "metadata": {},
   "source": [
    "### Prawa"
   ]
  },
  {
   "cell_type": "code",
   "execution_count": 12,
   "id": "b03fcee5",
   "metadata": {},
   "outputs": [
    {
     "data": {
      "text/latex": [
       "$\\displaystyle 0.5 \\sqrt{\\pi} e^{2}$"
      ],
      "text/plain": [
       "0.5*sqrt(pi)*exp(2)"
      ]
     },
     "execution_count": 12,
     "metadata": {},
     "output_type": "execute_result"
    }
   ],
   "source": [
    "sym.integrate(1/(2*sym.pi)*sym.Abs(X)**2, (w, -math.inf, math.inf))"
   ]
  },
  {
   "cell_type": "code",
   "execution_count": 13,
   "id": "c4d46a45",
   "metadata": {},
   "outputs": [
    {
     "data": {
      "text/latex": [
       "$\\displaystyle 6.54838046855326$"
      ],
      "text/plain": [
       "6.54838046855326"
      ]
     },
     "execution_count": 13,
     "metadata": {},
     "output_type": "execute_result"
    }
   ],
   "source": [
    "sym.simplify(sym.integrate(1/(2*sym.pi)*sym.Abs(X)**2, (w, -math.inf, math.inf))).evalf()"
   ]
  },
  {
   "cell_type": "markdown",
   "id": "33276933",
   "metadata": {},
   "source": [
    "Lewa strona równa się prawej, więc zachodzi twierdzenie Parsevala.  "
   ]
  },
  {
   "cell_type": "markdown",
   "id": "3003bb0b",
   "metadata": {},
   "source": [
    "# Power Spectrum "
   ]
  },
  {
   "cell_type": "markdown",
   "id": "d03bbc26",
   "metadata": {},
   "source": [
    "Wyznaczamy widmową gęstość energii. "
   ]
  },
  {
   "cell_type": "code",
   "execution_count": 16,
   "id": "f7435390",
   "metadata": {},
   "outputs": [
    {
     "data": {
      "text/latex": [
       "$\\displaystyle \\frac{\\pi e^{2 - 0.25 w^{2}}}{2}$"
      ],
      "text/plain": [
       "pi*exp(2 - 0.25*w**2)/2"
      ]
     },
     "execution_count": 16,
     "metadata": {},
     "output_type": "execute_result"
    }
   ],
   "source": [
    "(sym.Abs(X))**2"
   ]
  },
  {
   "cell_type": "markdown",
   "id": "ba418146",
   "metadata": {},
   "source": [
    "--------------------------------------------------------------------------------------------------------------"
   ]
  },
  {
   "cell_type": "markdown",
   "id": "4e8f1bd0",
   "metadata": {},
   "source": [
    "sympy.integrals.transforms._fourier_transform(f, x, k, a, b, name, simplify=True)"
   ]
  }
 ],
 "metadata": {
  "kernelspec": {
   "display_name": "Python 3 (ipykernel)",
   "language": "python",
   "name": "python3"
  },
  "language_info": {
   "codemirror_mode": {
    "name": "ipython",
    "version": 3
   },
   "file_extension": ".py",
   "mimetype": "text/x-python",
   "name": "python",
   "nbconvert_exporter": "python",
   "pygments_lexer": "ipython3",
   "version": "3.9.12"
  }
 },
 "nbformat": 4,
 "nbformat_minor": 5
}
