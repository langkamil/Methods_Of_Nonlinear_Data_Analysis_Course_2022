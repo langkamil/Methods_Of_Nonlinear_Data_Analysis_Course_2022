{
 "cells": [
  {
   "cell_type": "markdown",
   "id": "d4795cd9",
   "metadata": {},
   "source": [
    "# Program 1"
   ]
  },
  {
   "cell_type": "markdown",
   "id": "b53f7cf3",
   "metadata": {},
   "source": [
    "### Metody nieliniowej analizy danych "
   ]
  },
  {
   "cell_type": "markdown",
   "id": "4d8ba76b",
   "metadata": {},
   "source": [
    "Aleksandra Burczyk \\\n",
    "Monika Gmaj \\\n",
    "Kinga Jankowska \\\n",
    "Kamil Łangowski"
   ]
  },
  {
   "cell_type": "markdown",
   "id": "3e93cac4",
   "metadata": {},
   "source": [
    "Rozpoczynamy od zdefiniowania funkcji f(x) oraz g(x). Do zapisania drugiej z nich importujemy pakiet 'math'."
   ]
  },
  {
   "cell_type": "code",
   "execution_count": 121,
   "id": "79b83880",
   "metadata": {},
   "outputs": [],
   "source": [
    "def f(x):\n",
    "    if(x >= 0 and x <= 1):\n",
    "        result = (1/3)**x\n",
    "        print(result)\n",
    "    else:\n",
    "        result = 0\n",
    "    return result"
   ]
  },
  {
   "cell_type": "code",
   "execution_count": 122,
   "id": "a7f30498",
   "metadata": {},
   "outputs": [
    {
     "name": "stdout",
     "output_type": "stream",
     "text": [
      "1.0\n",
      "0.3333333333333333\n",
      "0.5773502691896257\n"
     ]
    },
    {
     "data": {
      "text/plain": [
       "(1.0, 0.3333333333333333, 0.5773502691896257)"
      ]
     },
     "execution_count": 122,
     "metadata": {},
     "output_type": "execute_result"
    }
   ],
   "source": [
    "f(0), f(1), f(1/2)"
   ]
  },
  {
   "cell_type": "code",
   "execution_count": 123,
   "id": "3216feda",
   "metadata": {},
   "outputs": [],
   "source": [
    "import math"
   ]
  },
  {
   "cell_type": "code",
   "execution_count": 124,
   "id": "abd24454",
   "metadata": {},
   "outputs": [],
   "source": [
    "def g(x):\n",
    "    if(x >= 0 and x <= 1):\n",
    "        result = (1+1j)*math.exp(x)\n",
    "        print(result)\n",
    "    else:\n",
    "        result = 0\n",
    "    return result"
   ]
  },
  {
   "cell_type": "code",
   "execution_count": 125,
   "id": "b96da385",
   "metadata": {},
   "outputs": [
    {
     "name": "stdout",
     "output_type": "stream",
     "text": [
      "(1+1j)\n",
      "(2.718281828459045+2.718281828459045j)\n",
      "(1.6487212707001282+1.6487212707001282j)\n"
     ]
    },
    {
     "data": {
      "text/plain": [
       "((1+1j),\n",
       " (2.718281828459045+2.718281828459045j),\n",
       " (1.6487212707001282+1.6487212707001282j))"
      ]
     },
     "execution_count": 125,
     "metadata": {},
     "output_type": "execute_result"
    }
   ],
   "source": [
    "g(0), g(1), g(1/2)"
   ]
  },
  {
   "cell_type": "markdown",
   "id": "ed3ff240",
   "metadata": {},
   "source": [
    "Przechodzimy do sprawdzenia, czy powyżej zdefiniowane funkcje należą do przestrzeni Hilberta. W tym celu będziemy musieli wyznaczyć odpowiednie całki i sprawdzić czy są one skończone. "
   ]
  },
  {
   "cell_type": "code",
   "execution_count": 126,
   "id": "23d4902a",
   "metadata": {},
   "outputs": [
    {
     "name": "stdout",
     "output_type": "stream",
     "text": [
      "0.3333333333333333\n",
      "0.9952973365198468\n",
      "0.9717222533814738\n",
      "0.9234765565707637\n",
      "0.8495485362903654\n",
      "0.7507376549271749\n",
      "0.6285696266555407\n",
      "0.4864573338158096\n",
      "0.6933612743506347\n",
      "0.33646370737504666\n",
      "0.9976509309351052\n",
      "0.35201235050973245\n",
      "0.9859419521209446\n",
      "0.3830663694575439\n",
      "0.9623152811034426\n",
      "0.42863371915243403\n",
      "0.9269151360711997\n",
      "0.4858501817323679\n",
      "0.8809064499566582\n",
      "0.5513592083466148\n",
      "0.8255919961924291\n",
      "0.6217547232402932\n",
      "0.7623722677052336\n"
     ]
    }
   ],
   "source": [
    "from scipy import integrate\n",
    "import numpy as np\n",
    "val_f2, err = integrate.quad(lambda x: np.abs(f(x))**2, -math.inf, math.inf)"
   ]
  },
  {
   "cell_type": "markdown",
   "id": "20651239",
   "metadata": {},
   "source": [
    "wartość całki $|f(x)|^2$ w przestrzeni Hilberta $L^2$"
   ]
  },
  {
   "cell_type": "code",
   "execution_count": 127,
   "id": "9b978bee",
   "metadata": {},
   "outputs": [
    {
     "data": {
      "text/plain": [
       "0.4045507673897055"
      ]
     },
     "execution_count": 127,
     "metadata": {},
     "output_type": "execute_result"
    }
   ],
   "source": [
    "val_f2"
   ]
  },
  {
   "cell_type": "markdown",
   "id": "52e0669a",
   "metadata": {},
   "source": [
    "Przechodzimy do sprawdzenia, czy powyżej zdefiniowane funkcje należą do przestrzeni Banacha. W tym celu będziemy musieli wyznaczyć odpowiednie całki i sprawdzić czy są one skończone."
   ]
  },
  {
   "cell_type": "code",
   "execution_count": 128,
   "id": "80de9115",
   "metadata": {},
   "outputs": [
    {
     "name": "stdout",
     "output_type": "stream",
     "text": [
      "0.3333333333333333\n",
      "0.9952973365198468\n",
      "0.9717222533814738\n",
      "0.9234765565707637\n",
      "0.8495485362903654\n",
      "0.7507376549271749\n",
      "0.6285696266555407\n",
      "0.4864573338158096\n",
      "0.6933612743506347\n",
      "0.33646370737504666\n",
      "0.9976509309351052\n",
      "0.35201235050973245\n",
      "0.9859419521209446\n",
      "0.3830663694575439\n",
      "0.9623152811034426\n",
      "0.42863371915243403\n",
      "0.9269151360711997\n",
      "0.4858501817323679\n",
      "0.8809064499566582\n",
      "0.5513592083466148\n",
      "0.8255919961924291\n",
      "0.6217547232402932\n",
      "0.7623722677052336\n"
     ]
    }
   ],
   "source": [
    "val_f22, err = integrate.quad(lambda x: np.abs(f(x)), -math.inf, math.inf)"
   ]
  },
  {
   "cell_type": "markdown",
   "id": "2f9d29fb",
   "metadata": {},
   "source": [
    "wartość całki $|f(x)|$ w przestrzeni Banacha $L^1$"
   ]
  },
  {
   "cell_type": "code",
   "execution_count": 129,
   "id": "f4b6b8ab",
   "metadata": {},
   "outputs": [
    {
     "data": {
      "text/plain": [
       "0.6068261510845583"
      ]
     },
     "execution_count": 129,
     "metadata": {},
     "output_type": "execute_result"
    }
   ],
   "source": [
    "val_f22"
   ]
  },
  {
   "cell_type": "markdown",
   "id": "4b838226",
   "metadata": {},
   "source": [
    "WNIOSKI: "
   ]
  },
  {
   "cell_type": "code",
   "execution_count": 130,
   "id": "8f9f8c39",
   "metadata": {},
   "outputs": [
    {
     "name": "stdout",
     "output_type": "stream",
     "text": [
      "Funkcja f(x) należy do przestrzeni Hilberta i jej norma w L^2 wynosi: 0.6360430546666677. Jeżeli f(x) należy do przestrzeni Hilberta to należy również do przestrzeni Banacha a jej norma w L^1 wynosi : 0.6068261510845583.\n"
     ]
    }
   ],
   "source": [
    "if val_f2<math.inf:\n",
    "       print(\"Funkcja f(x) należy do przestrzeni Hilberta i jej norma w L^2 wynosi: \" +  str(math.sqrt(val_f2)) + \". Jeżeli f(x) należy do przestrzeni Hilberta to należy również do przestrzeni Banacha a jej norma w L^1 wynosi : \" + str(val_f22)  +\".\")\n",
    "else: \n",
    "    if val_f22<math.inf:\n",
    "        print('Funkcja f(x) nie należy do przestrzeni Hilberta, ale należy do przestrzeni Banacha i jej norma w L^1 wynosi: ' +  str(math(val_f22)) +\".\")\n",
    "    else: print(\" Funkcja f(x) nie należy do przestrzeni ani Hilberta ani Banacha. \")"
   ]
  },
  {
   "cell_type": "markdown",
   "id": "aa4367a5",
   "metadata": {},
   "source": [
    "Badanie funkcji g(x)"
   ]
  },
  {
   "cell_type": "code",
   "execution_count": 131,
   "id": "0da12606",
   "metadata": {},
   "outputs": [],
   "source": [
    "import scipy\n",
    "from scipy.integrate import quad\n",
    "\n",
    "def complex_quadrature(func, a, b, **kwargs):\n",
    "    def real_func(x):\n",
    "        return scipy.real(func(x))\n",
    "    def imag_func(x):\n",
    "        return scipy.imag(func(x))\n",
    "    real_integral = quad(real_func, a, b, **kwargs)\n",
    "    imag_integral = quad(imag_func, a, b, **kwargs)\n",
    "    return (real_integral[0] + 1j*imag_integral[0], real_integral[1:], imag_integral[1:])"
   ]
  },
  {
   "cell_type": "code",
   "execution_count": 132,
   "id": "ea40dc7c",
   "metadata": {},
   "outputs": [
    {
     "name": "stdout",
     "output_type": "stream",
     "text": [
      "(2.718281828459045+2.718281828459045j)\n",
      "(1.0042998634240934+1.0042998634240934j)\n",
      "(1.0264543156544232+1.0264543156544232j)\n",
      "(1.0751541235216533+1.0751541235216533j)\n",
      "(1.1599938367202303+1.1599938367202303j)\n",
      "(1.2981818264916187+1.2981818264916187j)\n",
      "(1.5259723097204358+1.5259723097204358j)\n",
      "(1.9269220214273777+1.9269220214273777j)\n",
      "(1.3956124250860895+1.3956124250860895j)\n",
      "(2.695252039567203+2.695252039567203j)\n",
      "(1.0021430231547142+1.0021430231547142j)\n",
      "(2.5866685656214248+2.5866685656214248j)\n",
      "(1.0129703783058503+1.0129703783058503j)\n",
      "(2.395081678722595+2.395081678722595j)\n",
      "(1.0355836213902254+1.0355836213902254j)\n",
      "(2.162168082836106+2.162168082836106j)\n",
      "(1.0715230272248077+1.0715230272248077j)\n",
      "(1.9291137686265434+1.9291137686265434j)\n",
      "(1.1223467814262393+1.1223467814262393j)\n",
      "(1.7193185165277873+1.7193185165277873j)\n",
      "(1.1905930158206297+1.1905930158206297j)\n",
      "(1.5411893421646408+1.5411893421646408j)\n",
      "(1.280136076607776+1.280136076607776j)\n",
      "(1.8221188003905089+1.8221188003905089j)\n",
      "(2.706717896059691+2.706717896059691j)\n",
      "(1.398268726869675+1.398268726869675j)\n",
      "(2.6508322290885604+2.6508322290885604j)\n",
      "(1.4116220494062766+1.4116220494062766j)\n",
      "(2.546297431367846+2.546297431367846j)\n",
      "(1.439153944279773+1.439153944279773j)\n",
      "(2.4075496968761705+2.4075496968761705j)\n",
      "(1.4819466614257653+1.4819466614257653j)\n",
      "(2.2534240583607374+2.2534240583607374j)\n",
      "(1.5405345133667554+1.5405345133667554j)\n",
      "(2.098752527138892+2.098752527138892j)\n",
      "(1.615879850419984+1.615879850419984j)\n",
      "(1.9530146775375936+1.9530146775375936j)\n",
      "(1.7094330064879628+1.7094330064879628j)\n",
      "(1.1535649948951077+1.1535649948951077j)\n",
      "(1.3929687029457567+1.3929687029457567j)\n",
      "(1.001069792441725+1.001069792441725j)\n",
      "(1.3800491297633128+1.3800491297633128j)\n",
      "(1.0064227770077772+1.0064227770077772j)\n",
      "(1.3552211669743197+1.3552211669743197j)\n",
      "(1.0173306505586992+1.0173306505586992j)\n",
      "(1.3208400474672526+1.3208400474672526j)\n",
      "(1.0339509095896044+1.0339509095896044j)\n",
      "(1.2805485713641982+1.2805485713641982j)\n",
      "(1.0560780448778235+1.0560780448778235j)\n",
      "(1.2376267734062796+1.2376267734062796j)\n",
      "(1.0835338956435852+1.0835338956435852j)\n",
      "(1.194609089368456+1.194609089368456j)\n",
      "(1.1161787559883378+1.1161787559883378j)\n"
     ]
    }
   ],
   "source": [
    "val_g2, err= integrate.quad(lambda x: np.abs(g(x))**2,-math.inf, math.inf )"
   ]
  },
  {
   "cell_type": "markdown",
   "id": "e145643e",
   "metadata": {},
   "source": [
    "wartość całki $|g(x)|^2$ w przestrzeni Hilberta $L^2$"
   ]
  },
  {
   "cell_type": "code",
   "execution_count": 133,
   "id": "51a5e4e7",
   "metadata": {},
   "outputs": [
    {
     "data": {
      "text/plain": [
       "6.3890560989306495"
      ]
     },
     "execution_count": 133,
     "metadata": {},
     "output_type": "execute_result"
    }
   ],
   "source": [
    "val_g2"
   ]
  },
  {
   "cell_type": "code",
   "execution_count": 134,
   "id": "d17ca970",
   "metadata": {},
   "outputs": [
    {
     "name": "stdout",
     "output_type": "stream",
     "text": [
      "(2.718281828459045+2.718281828459045j)\n",
      "(1.0042998634240934+1.0042998634240934j)\n",
      "(1.0264543156544232+1.0264543156544232j)\n",
      "(1.0751541235216533+1.0751541235216533j)\n",
      "(1.1599938367202303+1.1599938367202303j)\n",
      "(1.2981818264916187+1.2981818264916187j)\n",
      "(1.5259723097204358+1.5259723097204358j)\n",
      "(1.9269220214273777+1.9269220214273777j)\n",
      "(1.3956124250860895+1.3956124250860895j)\n",
      "(2.695252039567203+2.695252039567203j)\n",
      "(1.0021430231547142+1.0021430231547142j)\n",
      "(2.5866685656214248+2.5866685656214248j)\n",
      "(1.0129703783058503+1.0129703783058503j)\n",
      "(2.395081678722595+2.395081678722595j)\n",
      "(1.0355836213902254+1.0355836213902254j)\n",
      "(2.162168082836106+2.162168082836106j)\n",
      "(1.0715230272248077+1.0715230272248077j)\n",
      "(1.9291137686265434+1.9291137686265434j)\n",
      "(1.1223467814262393+1.1223467814262393j)\n",
      "(1.7193185165277873+1.7193185165277873j)\n",
      "(1.1905930158206297+1.1905930158206297j)\n",
      "(1.5411893421646408+1.5411893421646408j)\n",
      "(1.280136076607776+1.280136076607776j)\n",
      "(1.8221188003905089+1.8221188003905089j)\n",
      "(2.706717896059691+2.706717896059691j)\n",
      "(1.398268726869675+1.398268726869675j)\n",
      "(2.6508322290885604+2.6508322290885604j)\n",
      "(1.4116220494062766+1.4116220494062766j)\n",
      "(2.546297431367846+2.546297431367846j)\n",
      "(1.439153944279773+1.439153944279773j)\n",
      "(2.4075496968761705+2.4075496968761705j)\n",
      "(1.4819466614257653+1.4819466614257653j)\n",
      "(2.2534240583607374+2.2534240583607374j)\n",
      "(1.5405345133667554+1.5405345133667554j)\n",
      "(2.098752527138892+2.098752527138892j)\n",
      "(1.615879850419984+1.615879850419984j)\n",
      "(1.9530146775375936+1.9530146775375936j)\n",
      "(1.7094330064879628+1.7094330064879628j)\n",
      "(1.1535649948951077+1.1535649948951077j)\n",
      "(1.3929687029457567+1.3929687029457567j)\n",
      "(1.001069792441725+1.001069792441725j)\n",
      "(1.3800491297633128+1.3800491297633128j)\n",
      "(1.0064227770077772+1.0064227770077772j)\n",
      "(1.3552211669743197+1.3552211669743197j)\n",
      "(1.0173306505586992+1.0173306505586992j)\n",
      "(1.3208400474672526+1.3208400474672526j)\n",
      "(1.0339509095896044+1.0339509095896044j)\n",
      "(1.2805485713641982+1.2805485713641982j)\n",
      "(1.0560780448778235+1.0560780448778235j)\n",
      "(1.2376267734062796+1.2376267734062796j)\n",
      "(1.0835338956435852+1.0835338956435852j)\n",
      "(1.194609089368456+1.194609089368456j)\n",
      "(1.1161787559883378+1.1161787559883378j)\n"
     ]
    }
   ],
   "source": [
    "val_g22, err= integrate.quad(lambda x: np.abs(g(x)),-math.inf, math.inf )"
   ]
  },
  {
   "cell_type": "markdown",
   "id": "fbe607e4",
   "metadata": {},
   "source": [
    "wartość całki $|g(x)|$ w przestrzeni Banacha w $L^1$"
   ]
  },
  {
   "cell_type": "code",
   "execution_count": 135,
   "id": "a53476ec",
   "metadata": {},
   "outputs": [
    {
     "data": {
      "text/plain": [
       "2.4300174657860216"
      ]
     },
     "execution_count": 135,
     "metadata": {},
     "output_type": "execute_result"
    }
   ],
   "source": [
    "val_g22"
   ]
  },
  {
   "cell_type": "markdown",
   "id": "c4d4e4f3",
   "metadata": {},
   "source": [
    "WNIOSKI: "
   ]
  },
  {
   "cell_type": "code",
   "execution_count": 136,
   "id": "374c8e7a",
   "metadata": {},
   "outputs": [
    {
     "name": "stdout",
     "output_type": "stream",
     "text": [
      "Funkcja g(x) należy do przestrzeni Hilberta i jej norma w L^2 wynosi: 2.5276582243117143. Jeżeli g(x) należy do przestrzeni Hilberta to należy również do przestrzeni Banacha a jej norma w L^1 wynosi : 2.4300174657860216.\n"
     ]
    }
   ],
   "source": [
    "if val_g2.imag<math.inf:\n",
    "       print(\"Funkcja g(x) należy do przestrzeni Hilberta i jej norma w L^2 wynosi: \" +  str(math.sqrt(val_g2)) + \". Jeżeli g(x) należy do przestrzeni Hilberta to należy również do przestrzeni Banacha a jej norma w L^1 wynosi : \" + str(val_g22 ) +\".\")\n",
    "else: \n",
    "    if val_g22<math.inf:\n",
    "        print('Funkcja g(x) nie należy do przestrzeni Hilberta, ale należy do przestrzeni Banacha i jej norma w L^1 wynosi: ' +  str(val_g22) +\".\")\n",
    "    else: print(\" Funkcja g(x) nie należy do przestrzeni ani Hilberta ani Banacha. \")"
   ]
  },
  {
   "cell_type": "markdown",
   "id": "a8cce1f5",
   "metadata": {},
   "source": [
    "Liczymy iloczyn skalarny "
   ]
  },
  {
   "cell_type": "code",
   "execution_count": 137,
   "id": "042356d7",
   "metadata": {},
   "outputs": [
    {
     "name": "stdout",
     "output_type": "stream",
     "text": [
      "0.3333333333333333\n",
      "(2.718281828459045+2.718281828459045j)\n",
      "0.9952973365198468\n",
      "(1.0042998634240934+1.0042998634240934j)\n",
      "0.9717222533814738\n",
      "(1.0264543156544232+1.0264543156544232j)\n",
      "0.9234765565707637\n",
      "(1.0751541235216533+1.0751541235216533j)\n",
      "0.8495485362903654\n",
      "(1.1599938367202303+1.1599938367202303j)\n",
      "0.7507376549271749\n",
      "(1.2981818264916187+1.2981818264916187j)\n",
      "0.6285696266555407\n",
      "(1.5259723097204358+1.5259723097204358j)\n",
      "0.4864573338158096\n",
      "(1.9269220214273777+1.9269220214273777j)\n",
      "0.6933612743506347\n",
      "(1.3956124250860895+1.3956124250860895j)\n",
      "0.33646370737504666\n",
      "(2.695252039567203+2.695252039567203j)\n",
      "0.9976509309351052\n",
      "(1.0021430231547142+1.0021430231547142j)\n",
      "0.35201235050973245\n",
      "(2.5866685656214248+2.5866685656214248j)\n",
      "0.9859419521209446\n",
      "(1.0129703783058503+1.0129703783058503j)\n",
      "0.3830663694575439\n",
      "(2.395081678722595+2.395081678722595j)\n",
      "0.9623152811034426\n",
      "(1.0355836213902254+1.0355836213902254j)\n",
      "0.42863371915243403\n",
      "(2.162168082836106+2.162168082836106j)\n",
      "0.9269151360711997\n",
      "(1.0715230272248077+1.0715230272248077j)\n",
      "0.4858501817323679\n",
      "(1.9291137686265434+1.9291137686265434j)\n",
      "0.8809064499566582\n",
      "(1.1223467814262393+1.1223467814262393j)\n",
      "0.5513592083466148\n",
      "(1.7193185165277873+1.7193185165277873j)\n",
      "0.8255919961924291\n",
      "(1.1905930158206297+1.1905930158206297j)\n",
      "0.6217547232402932\n",
      "(1.5411893421646408+1.5411893421646408j)\n",
      "0.7623722677052336\n",
      "(1.280136076607776+1.280136076607776j)\n",
      "0.3333333333333333\n",
      "(2.718281828459045+2.718281828459045j)\n",
      "0.9952973365198468\n",
      "(1.0042998634240934+1.0042998634240934j)\n",
      "0.9717222533814738\n",
      "(1.0264543156544232+1.0264543156544232j)\n",
      "0.9234765565707637\n",
      "(1.0751541235216533+1.0751541235216533j)\n",
      "0.8495485362903654\n",
      "(1.1599938367202303+1.1599938367202303j)\n",
      "0.7507376549271749\n",
      "(1.2981818264916187+1.2981818264916187j)\n",
      "0.6285696266555407\n",
      "(1.5259723097204358+1.5259723097204358j)\n",
      "0.4864573338158096\n",
      "(1.9269220214273777+1.9269220214273777j)\n",
      "0.6933612743506347\n",
      "(1.3956124250860895+1.3956124250860895j)\n",
      "0.33646370737504666\n",
      "(2.695252039567203+2.695252039567203j)\n",
      "0.9976509309351052\n",
      "(1.0021430231547142+1.0021430231547142j)\n",
      "0.35201235050973245\n",
      "(2.5866685656214248+2.5866685656214248j)\n",
      "0.9859419521209446\n",
      "(1.0129703783058503+1.0129703783058503j)\n",
      "0.3830663694575439\n",
      "(2.395081678722595+2.395081678722595j)\n",
      "0.9623152811034426\n",
      "(1.0355836213902254+1.0355836213902254j)\n",
      "0.42863371915243403\n",
      "(2.162168082836106+2.162168082836106j)\n",
      "0.9269151360711997\n",
      "(1.0715230272248077+1.0715230272248077j)\n",
      "0.4858501817323679\n",
      "(1.9291137686265434+1.9291137686265434j)\n",
      "0.8809064499566582\n",
      "(1.1223467814262393+1.1223467814262393j)\n",
      "0.5513592083466148\n",
      "(1.7193185165277873+1.7193185165277873j)\n",
      "0.8255919961924291\n",
      "(1.1905930158206297+1.1905930158206297j)\n",
      "0.6217547232402932\n",
      "(1.5411893421646408+1.5411893421646408j)\n",
      "0.7623722677052336\n",
      "(1.280136076607776+1.280136076607776j)\n"
     ]
    },
    {
     "name": "stderr",
     "output_type": "stream",
     "text": [
      "C:\\Users\\studentwftims.LAB\\AppData\\Local\\Temp\\ipykernel_12284\\2501902014.py:6: DeprecationWarning: scipy.real is deprecated and will be removed in SciPy 2.0.0, use numpy.real instead\n",
      "  return scipy.real(func(x))\n",
      "C:\\Users\\studentwftims.LAB\\AppData\\Local\\Temp\\ipykernel_12284\\2501902014.py:8: DeprecationWarning: scipy.imag is deprecated and will be removed in SciPy 2.0.0, use numpy.imag instead\n",
      "  return scipy.imag(func(x))\n"
     ]
    }
   ],
   "source": [
    "val_iloczyn, err, a= complex_quadrature(lambda x: f(x)*g(x).conjugate(),-math.inf, math.inf )"
   ]
  },
  {
   "cell_type": "markdown",
   "id": "c8065034",
   "metadata": {},
   "source": [
    "Wartość iloczynu skalarnego $<f,g>$"
   ]
  },
  {
   "cell_type": "code",
   "execution_count": 138,
   "id": "8fb37332",
   "metadata": {},
   "outputs": [
    {
     "data": {
      "text/plain": [
       "(0.9522754055163373-0.9522754055163373j)"
      ]
     },
     "execution_count": 138,
     "metadata": {},
     "output_type": "execute_result"
    }
   ],
   "source": [
    "val_iloczyn"
   ]
  },
  {
   "cell_type": "code",
   "execution_count": null,
   "id": "9d9cc93e",
   "metadata": {},
   "outputs": [],
   "source": []
  },
  {
   "cell_type": "code",
   "execution_count": null,
   "id": "133680c6",
   "metadata": {},
   "outputs": [],
   "source": []
  }
 ],
 "metadata": {
  "kernelspec": {
   "display_name": "Python 3 (ipykernel)",
   "language": "python",
   "name": "python3"
  },
  "language_info": {
   "codemirror_mode": {
    "name": "ipython",
    "version": 3
   },
   "file_extension": ".py",
   "mimetype": "text/x-python",
   "name": "python",
   "nbconvert_exporter": "python",
   "pygments_lexer": "ipython3",
   "version": "3.9.12"
  }
 },
 "nbformat": 4,
 "nbformat_minor": 5
}
