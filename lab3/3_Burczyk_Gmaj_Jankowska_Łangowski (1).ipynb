{
 "cells": [
  {
   "cell_type": "markdown",
   "id": "d6c34d40",
   "metadata": {},
   "source": [
    "#### Przygotowujemy funkcje elementarne"
   ]
  },
  {
   "cell_type": "markdown",
   "id": "30f09ac3",
   "metadata": {},
   "source": [
    "- potęga naturalna"
   ]
  },
  {
   "cell_type": "code",
   "execution_count": 1,
   "id": "26fe0e53",
   "metadata": {},
   "outputs": [],
   "source": [
    "def power(a, n): \n",
    "    b = a\n",
    "    for i in range(n-1):\n",
    "        b = b*a    \n",
    "    #if isinstance(n, int) and n >= 0:\n",
    "    return b\n",
    "    #else:\n",
    "     #   print('Invalid n argument')"
   ]
  },
  {
   "cell_type": "markdown",
   "id": "358e4de4",
   "metadata": {},
   "source": [
    "- moduł"
   ]
  },
  {
   "cell_type": "code",
   "execution_count": 2,
   "id": "1de4c7ff",
   "metadata": {},
   "outputs": [],
   "source": [
    "import math"
   ]
  },
  {
   "cell_type": "code",
   "execution_count": 3,
   "id": "85d24007",
   "metadata": {},
   "outputs": [],
   "source": [
    "def module(a):\n",
    "    if isinstance(a, complex):\n",
    "        return math.sqrt(power(a.real, 2) + power(a.imag, 2))\n",
    "    else:    \n",
    "        if a <= 0:\n",
    "            a = -a\n",
    "        return a        "
   ]
  },
  {
   "cell_type": "code",
   "execution_count": 4,
   "id": "a0cc9e4a",
   "metadata": {},
   "outputs": [
    {
     "data": {
      "text/plain": [
       "13.0"
      ]
     },
     "execution_count": 4,
     "metadata": {},
     "output_type": "execute_result"
    }
   ],
   "source": [
    "module(5j+12)"
   ]
  },
  {
   "cell_type": "code",
   "execution_count": 5,
   "id": "8316a2c5",
   "metadata": {},
   "outputs": [
    {
     "data": {
      "text/plain": [
       "2"
      ]
     },
     "execution_count": 5,
     "metadata": {},
     "output_type": "execute_result"
    }
   ],
   "source": [
    "module(2)"
   ]
  },
  {
   "cell_type": "markdown",
   "id": "6f835574",
   "metadata": {},
   "source": [
    "#### Definiujemy ciągi $a_n$ i $b_n$"
   ]
  },
  {
   "cell_type": "markdown",
   "id": "e1352a71",
   "metadata": {},
   "source": [
    "- $a_n$"
   ]
  },
  {
   "cell_type": "code",
   "execution_count": 6,
   "id": "49fe73f1",
   "metadata": {},
   "outputs": [],
   "source": [
    "def a_n(n): return power(-0.5, n)"
   ]
  },
  {
   "cell_type": "markdown",
   "id": "fa716e2c",
   "metadata": {},
   "source": [
    "- $b_n$"
   ]
  },
  {
   "cell_type": "code",
   "execution_count": 7,
   "id": "1daad9d8",
   "metadata": {},
   "outputs": [],
   "source": [
    "def b_n(n): return power(1j/3, n)"
   ]
  },
  {
   "cell_type": "markdown",
   "id": "aebf3a33",
   "metadata": {},
   "source": [
    "#### Definiujemy funkcję sprawdzającą przynależność ciągu do przestrzeni HIlberta"
   ]
  },
  {
   "cell_type": "code",
   "execution_count": 8,
   "id": "b880663d",
   "metadata": {},
   "outputs": [],
   "source": [
    "import numpy as np"
   ]
  },
  {
   "cell_type": "code",
   "execution_count": 9,
   "id": "d5788daf",
   "metadata": {},
   "outputs": [],
   "source": [
    "def IsHilbert(a_n): \n",
    "    n = 1\n",
    "    x = []\n",
    "    x.append(.0)\n",
    "    x.append(x[n-1] + power(module(a_n(n)), 2))\n",
    "    while( module(x[n]-x[n-1]) > np.finfo(float).eps):\n",
    "        n = n + 1\n",
    "        x.append(x[n-1] + power(module(a_n(n)), 2))\n",
    "    return x[n]"
   ]
  },
  {
   "cell_type": "markdown",
   "id": "2cf2885f",
   "metadata": {},
   "source": [
    "Dla ciągu an"
   ]
  },
  {
   "cell_type": "code",
   "execution_count": 10,
   "id": "33bcedef",
   "metadata": {},
   "outputs": [],
   "source": [
    "sum_a = IsHilbert(a_n)"
   ]
  },
  {
   "cell_type": "code",
   "execution_count": 11,
   "id": "dc27271a",
   "metadata": {},
   "outputs": [
    {
     "data": {
      "text/plain": [
       "0.33333333333333326"
      ]
     },
     "execution_count": 11,
     "metadata": {},
     "output_type": "execute_result"
    }
   ],
   "source": [
    "sum_a"
   ]
  },
  {
   "cell_type": "markdown",
   "id": "a724eeb6",
   "metadata": {},
   "source": [
    "Dla ciągu bn"
   ]
  },
  {
   "cell_type": "code",
   "execution_count": 12,
   "id": "7f9b69cc",
   "metadata": {},
   "outputs": [],
   "source": [
    "sum_b = IsHilbert(b_n)"
   ]
  },
  {
   "cell_type": "code",
   "execution_count": 13,
   "id": "eb26996c",
   "metadata": {},
   "outputs": [
    {
     "data": {
      "text/plain": [
       "0.125"
      ]
     },
     "execution_count": 13,
     "metadata": {},
     "output_type": "execute_result"
    }
   ],
   "source": [
    "sum_b"
   ]
  },
  {
   "cell_type": "markdown",
   "id": "bbc9df9d",
   "metadata": {},
   "source": [
    "Wniosek: Oba ciągi należą do przestrzeni Hilberta"
   ]
  },
  {
   "cell_type": "markdown",
   "id": "e9958095",
   "metadata": {},
   "source": [
    "Konstruujemy funkcję wyznaczającą normę"
   ]
  },
  {
   "cell_type": "code",
   "execution_count": 14,
   "id": "545c98f6",
   "metadata": {},
   "outputs": [],
   "source": [
    "def norm(a_n): \n",
    "    n = 1\n",
    "    x = []\n",
    "    x.append(.0)\n",
    "    x.append(x[n-1] + power(module(a_n(n)), 2))\n",
    "    while( module(x[n]-x[n-1]) > np.finfo(float).eps):\n",
    "        n = n + 1\n",
    "        x.append(x[n-1] + power(module(a_n(n)), 2))\n",
    "    return math.sqrt(x[n])"
   ]
  },
  {
   "cell_type": "markdown",
   "id": "c1aa7eb4",
   "metadata": {},
   "source": [
    "Norma $a_n$"
   ]
  },
  {
   "cell_type": "code",
   "execution_count": 15,
   "id": "410f0312",
   "metadata": {},
   "outputs": [],
   "source": [
    "norm_a = norm(a_n)"
   ]
  },
  {
   "cell_type": "code",
   "execution_count": 16,
   "id": "c1d0750d",
   "metadata": {},
   "outputs": [
    {
     "data": {
      "text/plain": [
       "0.5773502691896257"
      ]
     },
     "execution_count": 16,
     "metadata": {},
     "output_type": "execute_result"
    }
   ],
   "source": [
    "norm_a"
   ]
  },
  {
   "cell_type": "markdown",
   "id": "472e945c",
   "metadata": {},
   "source": [
    "Norma $b_n$"
   ]
  },
  {
   "cell_type": "code",
   "execution_count": 17,
   "id": "d59486f1",
   "metadata": {},
   "outputs": [],
   "source": [
    "norm_b = norm(b_n)"
   ]
  },
  {
   "cell_type": "code",
   "execution_count": 18,
   "id": "517f0d7f",
   "metadata": {},
   "outputs": [
    {
     "data": {
      "text/plain": [
       "0.3535533905932738"
      ]
     },
     "execution_count": 18,
     "metadata": {},
     "output_type": "execute_result"
    }
   ],
   "source": [
    "norm_b"
   ]
  },
  {
   "cell_type": "markdown",
   "id": "a9ebeea6",
   "metadata": {},
   "source": [
    "Iloczyn skalarny"
   ]
  },
  {
   "cell_type": "code",
   "execution_count": 19,
   "id": "2e1f79b1",
   "metadata": {},
   "outputs": [],
   "source": [
    "def scalar_product(a_n, b_n): \n",
    "    n = 1\n",
    "    x = []\n",
    "    x.append(.0)\n",
    "    x.append(x[n-1] + (a_n(n) * b_n(n).conjugate()))\n",
    "    while( module(x[n]-x[n-1]) > np.finfo(float).eps):\n",
    "        n = n + 1\n",
    "        x.append(x[n-1] + (a_n(n) * b_n(n).conjugate()))\n",
    "    return x[n]"
   ]
  },
  {
   "cell_type": "code",
   "execution_count": 20,
   "id": "842b7169",
   "metadata": {},
   "outputs": [
    {
     "data": {
      "text/plain": [
       "(-0.027027027027027015+0.1621621621621622j)"
      ]
     },
     "execution_count": 20,
     "metadata": {},
     "output_type": "execute_result"
    }
   ],
   "source": [
    "scalar_product(a_n, b_n)"
   ]
  }
 ],
 "metadata": {
  "kernelspec": {
   "display_name": "Python 3 (ipykernel)",
   "language": "python",
   "name": "python3"
  },
  "language_info": {
   "codemirror_mode": {
    "name": "ipython",
    "version": 3
   },
   "file_extension": ".py",
   "mimetype": "text/x-python",
   "name": "python",
   "nbconvert_exporter": "python",
   "pygments_lexer": "ipython3",
   "version": "3.9.12"
  }
 },
 "nbformat": 4,
 "nbformat_minor": 5
}
