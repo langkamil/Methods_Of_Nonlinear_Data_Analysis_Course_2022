{
 "cells": [
  {
   "cell_type": "markdown",
   "id": "dd54e6b9",
   "metadata": {},
   "source": [
    "# Laboratorium 4\n",
    "#### Aleksandra Burczyk\n",
    "#### Monika Gmaj\n",
    "#### Kinga Jankowska\n",
    "#### Kamil Łangowski"
   ]
  },
  {
   "cell_type": "code",
   "execution_count": 1,
   "id": "98f0b140",
   "metadata": {},
   "outputs": [],
   "source": [
    "import pandas as pd, numpy as np\n",
    "from numpy.linalg import inv"
   ]
  },
  {
   "cell_type": "markdown",
   "id": "c0ceeb0b",
   "metadata": {},
   "source": [
    "Definiujemy funkcję transpozycji macierzy"
   ]
  },
  {
   "cell_type": "code",
   "execution_count": 2,
   "id": "92a02102",
   "metadata": {},
   "outputs": [],
   "source": [
    "def transpose(A):\n",
    "    '''\n",
    "    Function for matrix transposition\n",
    "    A - numpy array object\n",
    "    '''\n",
    "    B = np.zeros(shape=(np.shape(A)[1], np.shape(A)[0]))\n",
    "    \n",
    "    for j in range(np.shape(A)[1]):\n",
    "        for i in range(np.shape(A)[0]):\n",
    "            B[j][i] = A[i][j] \n",
    "    return B"
   ]
  },
  {
   "cell_type": "markdown",
   "id": "a3d61cb0",
   "metadata": {},
   "source": [
    "Definiujemy funkcję mnożenia macierzy"
   ]
  },
  {
   "cell_type": "code",
   "execution_count": 3,
   "id": "78cf42e8",
   "metadata": {},
   "outputs": [],
   "source": [
    "def multiplication(A, B):\n",
    "    '''\n",
    "    Function for matrix multiplication\n",
    "    A, B - numpy array objects\n",
    "    '''\n",
    "    C = np.zeros((np.shape(A)[0], np.shape(B)[1]))\n",
    "\n",
    "    for i in range(np.shape(A)[0]):\n",
    "        \n",
    "         for j in range(np.shape(B)[1]):\n",
    "                \n",
    "            for k in range(np.shape(B)[0]):\n",
    "                \n",
    "                C[i][j] += A[i][k] * B[k][j]\n",
    "    return C"
   ]
  },
  {
   "cell_type": "markdown",
   "id": "53cbf26e",
   "metadata": {},
   "source": [
    "Definiujemy funkcję wyznaczania parametrów regresji metodą najmniejszych kwadratów"
   ]
  },
  {
   "cell_type": "code",
   "execution_count": 7,
   "id": "98b4da86",
   "metadata": {},
   "outputs": [],
   "source": [
    "def LSM_parameters(x, y):\n",
    "    '''\n",
    "    Function for parameters calculation of linear regression using least squares method\n",
    "    x, y - numpy array objects\n",
    "    '''\n",
    "    \n",
    "    # define experiment matrix\n",
    "    X = np.ones((np.shape(x)[0], np.shape(x)[1] + 1))\n",
    "    \n",
    "    for i in range(0, np.shape(X)[0]):\n",
    "        for j in range(1, np.shape(X)[1]):\n",
    "            X[i][j] = x[i][j-1]\n",
    "    print('Experiment matrix: \\n'  + str(X))\n",
    "    \n",
    "    Xt = transpose(X)\n",
    "    print('Transposition of X:\\n' +str (Xt))\n",
    "    \n",
    "    XtX = multiplication(Xt, X)\n",
    "    print('Multiplication of X transposed and X :\\n' + str(XtX))\n",
    "    \n",
    "    XtX_inverse = inv(XtX)\n",
    "    print('Inversion of X^t * X:\\n' + str(XtX_inverse))\n",
    "    \n",
    "    Xty = multiplication(Xt, y)\n",
    "    print('Multiplication of X^t and y:\\n' + str(Xty))\n",
    "    \n",
    "    result = multiplication(XtX_inverse, Xty)\n",
    "    print('Parameters:\\n' + str(result))\n",
    "    return(result)   "
   ]
  },
  {
   "cell_type": "markdown",
   "id": "d4dd15df",
   "metadata": {},
   "source": [
    "Wprowadzamy dane"
   ]
  },
  {
   "cell_type": "code",
   "execution_count": 5,
   "id": "b0ce9431",
   "metadata": {},
   "outputs": [],
   "source": [
    "x = np.array([[0.35],\n",
    "              [0.45],\n",
    "              [0.6],\n",
    "              [0.95],\n",
    "              [1.2],\n",
    "              [1.7]])\n",
    "\n",
    "y = np.array([[0.1],\n",
    "              [0.15],\n",
    "              [0.18],\n",
    "              [0.24],\n",
    "              [0.28],\n",
    "              [0.35]])"
   ]
  },
  {
   "cell_type": "markdown",
   "id": "03862312",
   "metadata": {},
   "source": [
    "Wyniki:"
   ]
  },
  {
   "cell_type": "code",
   "execution_count": 8,
   "id": "e841404f",
   "metadata": {},
   "outputs": [
    {
     "name": "stdout",
     "output_type": "stream",
     "text": [
      "Experiment matrix: \n",
      "[[1.   0.35]\n",
      " [1.   0.45]\n",
      " [1.   0.6 ]\n",
      " [1.   0.95]\n",
      " [1.   1.2 ]\n",
      " [1.   1.7 ]]\n",
      "Transposition of X:\n",
      "[[1.   1.   1.   1.   1.   1.  ]\n",
      " [0.35 0.45 0.6  0.95 1.2  1.7 ]]\n",
      "Multiplication of X transposed and X :\n",
      "[[6.     5.25  ]\n",
      " [5.25   5.9175]]\n",
      "Inversion of X^t * X:\n",
      "[[ 0.74504249 -0.66100094]\n",
      " [-0.66100094  0.75542965]]\n",
      "Multiplication of X^t and y:\n",
      "[[1.3   ]\n",
      " [1.3695]]\n",
      "Parameters:\n",
      "[[0.06331445]\n",
      " [0.17525968]]\n"
     ]
    },
    {
     "data": {
      "text/plain": [
       "array([[0.06331445],\n",
       "       [0.17525968]])"
      ]
     },
     "execution_count": 8,
     "metadata": {},
     "output_type": "execute_result"
    }
   ],
   "source": [
    "LSM_parameters(x, y)"
   ]
  },
  {
   "cell_type": "markdown",
   "id": "64dd8f5b",
   "metadata": {},
   "source": [
    "Jako parametr $a_1 = 0.06331445$, $a_2 = 0.17525968$."
   ]
  }
 ],
 "metadata": {
  "kernelspec": {
   "display_name": "Python 3 (ipykernel)",
   "language": "python",
   "name": "python3"
  },
  "language_info": {
   "codemirror_mode": {
    "name": "ipython",
    "version": 3
   },
   "file_extension": ".py",
   "mimetype": "text/x-python",
   "name": "python",
   "nbconvert_exporter": "python",
   "pygments_lexer": "ipython3",
   "version": "3.9.12"
  }
 },
 "nbformat": 4,
 "nbformat_minor": 5
}
