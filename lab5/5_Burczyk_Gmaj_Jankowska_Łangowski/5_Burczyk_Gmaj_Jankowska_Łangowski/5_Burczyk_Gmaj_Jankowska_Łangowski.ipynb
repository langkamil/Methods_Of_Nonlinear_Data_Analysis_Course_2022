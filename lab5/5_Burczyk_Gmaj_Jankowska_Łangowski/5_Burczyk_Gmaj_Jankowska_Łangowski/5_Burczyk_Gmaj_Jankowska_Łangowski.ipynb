{
 "cells": [
  {
   "cell_type": "markdown",
   "id": "8d816e01",
   "metadata": {},
   "source": [
    "# Laboratorium 5\n",
    "#### Aleksandra Burczyk\n",
    "#### Monika Gmaj\n",
    "#### Kinga Jankowska\n",
    "#### Kamil Łangowski"
   ]
  },
  {
   "cell_type": "code",
   "execution_count": 1,
   "id": "bd33f6ee",
   "metadata": {},
   "outputs": [],
   "source": [
    "import pakiet "
   ]
  },
  {
   "cell_type": "code",
   "execution_count": 2,
   "id": "1631819f",
   "metadata": {},
   "outputs": [
    {
     "name": "stdout",
     "output_type": "stream",
     "text": [
      "Help on package pakiet:\n",
      "\n",
      "NAME\n",
      "    pakiet\n",
      "\n",
      "DESCRIPTION\n",
      "    Ten pakiet zawiera moduły służące do transponowania oraz mnożenia macierzy i sumowania elementów wektora\n",
      "    @authors: AB, MG, KJ, KŁ\n",
      "\n",
      "PACKAGE CONTENTS\n",
      "    mnozenie\n",
      "    suma\n",
      "    transpozycja\n",
      "\n",
      "FILE\n",
      "    c:\\users\\studentwftims.lab\\downloads\\program5\\pakiet\\__init__.py\n",
      "\n",
      "\n"
     ]
    }
   ],
   "source": [
    "help(pakiet)"
   ]
  },
  {
   "cell_type": "code",
   "execution_count": 3,
   "id": "63d36399",
   "metadata": {},
   "outputs": [
    {
     "name": "stdout",
     "output_type": "stream",
     "text": [
      "Ładuję moduł o nazwie: pakiet.mnozenie\n"
     ]
    }
   ],
   "source": [
    "import pakiet.mnozenie"
   ]
  },
  {
   "cell_type": "code",
   "execution_count": 4,
   "id": "fc294b07",
   "metadata": {},
   "outputs": [
    {
     "name": "stdout",
     "output_type": "stream",
     "text": [
      "Help on module pakiet.mnozenie in pakiet:\n",
      "\n",
      "NAME\n",
      "    pakiet.mnozenie - mnoży macierze\n",
      "\n",
      "FUNCTIONS\n",
      "    multiplication(A, B)\n",
      "        Funkcja mnożąca macierze \n",
      "        parametry:\n",
      "            A: numpy array object \n",
      "                pierwsza macierz w mnożeniu \n",
      "            B: numpy array object \n",
      "                druga macierz w mnożeniu\n",
      "\n",
      "FILE\n",
      "    c:\\users\\studentwftims.lab\\downloads\\program5\\pakiet\\mnozenie.py\n",
      "\n",
      "\n"
     ]
    }
   ],
   "source": [
    "help(pakiet.mnozenie)"
   ]
  },
  {
   "cell_type": "code",
   "execution_count": 5,
   "id": "08e20943",
   "metadata": {},
   "outputs": [
    {
     "name": "stdout",
     "output_type": "stream",
     "text": [
      "Ładuję moduł o nazwie: pakiet.suma\n"
     ]
    }
   ],
   "source": [
    "import pakiet.suma"
   ]
  },
  {
   "cell_type": "code",
   "execution_count": 6,
   "id": "7da0b238",
   "metadata": {},
   "outputs": [
    {
     "name": "stdout",
     "output_type": "stream",
     "text": [
      "Help on module pakiet.suma in pakiet:\n",
      "\n",
      "NAME\n",
      "    pakiet.suma - sumuje elementy wektora\n",
      "\n",
      "FUNCTIONS\n",
      "    summation(A)\n",
      "        Funkcja sumująca elementy tablicy pionowej\n",
      "        parametry: \n",
      "            A: numpy array object \n",
      "                sumowany wektor\n",
      "\n",
      "FILE\n",
      "    c:\\users\\studentwftims.lab\\downloads\\program5\\pakiet\\suma.py\n",
      "\n",
      "\n"
     ]
    }
   ],
   "source": [
    "help(pakiet.suma)"
   ]
  },
  {
   "cell_type": "code",
   "execution_count": 7,
   "id": "db3f1d79",
   "metadata": {},
   "outputs": [
    {
     "name": "stdout",
     "output_type": "stream",
     "text": [
      "Ładuję moduł o nazwie: pakiet.transpozycja\n"
     ]
    }
   ],
   "source": [
    "import pakiet.transpozycja"
   ]
  },
  {
   "cell_type": "code",
   "execution_count": 8,
   "id": "2f2b88d0",
   "metadata": {},
   "outputs": [
    {
     "name": "stdout",
     "output_type": "stream",
     "text": [
      "Help on module pakiet.transpozycja in pakiet:\n",
      "\n",
      "NAME\n",
      "    pakiet.transpozycja - transponuje macierze\n",
      "\n",
      "FUNCTIONS\n",
      "    transpose(A)\n",
      "        Funkcja transponująca macierz\n",
      "        parametry: \n",
      "            A: numpy array object \n",
      "                macierz, którą transponujemy\n",
      "\n",
      "FILE\n",
      "    c:\\users\\studentwftims.lab\\downloads\\program5\\pakiet\\transpozycja.py\n",
      "\n",
      "\n"
     ]
    }
   ],
   "source": [
    "help(pakiet.transpozycja)"
   ]
  },
  {
   "cell_type": "code",
   "execution_count": 9,
   "id": "71659187",
   "metadata": {},
   "outputs": [],
   "source": [
    "import numpy as np\n",
    "from numpy.linalg import inv"
   ]
  },
  {
   "cell_type": "markdown",
   "id": "bc65415b",
   "metadata": {},
   "source": [
    "Tablice zmiennych i wag"
   ]
  },
  {
   "cell_type": "code",
   "execution_count": 10,
   "id": "d7a61aad",
   "metadata": {},
   "outputs": [],
   "source": [
    "wydajnosc = np.array([[3],\n",
    "                      [9],\n",
    "                      [7],\n",
    "                      [9.5],\n",
    "                      [14],\n",
    "                      [14],\n",
    "                      [14],\n",
    "                      [22]])"
   ]
  },
  {
   "cell_type": "code",
   "execution_count": 11,
   "id": "352ffc1b",
   "metadata": {},
   "outputs": [],
   "source": [
    "dlugosc_szkolenia = np.array([[0.5],\n",
    "                              [1],\n",
    "                              [1.5],\n",
    "                              [2],\n",
    "                              [2.5],\n",
    "                              [3.5],\n",
    "                              [4],\n",
    "                             [4.5]])"
   ]
  },
  {
   "cell_type": "code",
   "execution_count": 12,
   "id": "9cefc97c",
   "metadata": {},
   "outputs": [],
   "source": [
    "liczba_pracownikow = np.array([[4],\n",
    "                               [4],\n",
    "                               [4],\n",
    "                               [16],\n",
    "                               [4],\n",
    "                               [4],\n",
    "                               [1],\n",
    "                               [4]])"
   ]
  },
  {
   "cell_type": "markdown",
   "id": "e65b5bc2",
   "metadata": {},
   "source": [
    "Definiowanie funkcji ważonej metody najmniejszych kwadratów"
   ]
  },
  {
   "cell_type": "code",
   "execution_count": 13,
   "id": "7cf568ee",
   "metadata": {},
   "outputs": [],
   "source": [
    "def WLSM_parameters(x, y, w, b0):\n",
    "    '''\n",
    "    Function for parameters calculation of linear regression using weighted least squares method\n",
    "    x, y, w - numpy array objects\n",
    "    b0 - boolean TO DO: 1 JEZELI MA BYC B0; 0 JEZELI NIE MA BYC B0\n",
    "    '''  \n",
    "    if (b0 == 1):\n",
    "        # define experiment matrix\n",
    "        X = np.ones((np.shape(x)[0], np.shape(x)[1] + 1))\n",
    "\n",
    "        for i in range(0, np.shape(X)[0]):\n",
    "            for j in range(1, np.shape(X)[1]):\n",
    "                X[i][j] = x[i][j-1]\n",
    "                \n",
    "        print('Experiment matrix: \\n'  + str(X))\n",
    "        \n",
    "        W = np.diag(w.reshape(1,len(w))[0])\n",
    "        \n",
    "        Xt = pakiet.transpozycja.transpose(X)\n",
    "        print('Transposition of X:\\n' +str (Xt))\n",
    "\n",
    "        XtW = pakiet.mnozenie.multiplication(Xt, W)\n",
    "        print('Multiplication of X transposed and W :\\n' + str(XtW))\n",
    "        \n",
    "        XtWX = pakiet.mnozenie.multiplication(XtW, X)\n",
    "        print('Multiplication of X^tW and X :\\n' + str(XtWX))\n",
    "        \n",
    "        \n",
    "        XtWX_inverse = inv(XtWX)\n",
    "        print('Inversion of X^t * W * X  :\\n' + str(XtWX_inverse))\n",
    "\n",
    "        XtWy = pakiet.mnozenie.multiplication(XtW, y)\n",
    "        print('Multiplication of X^tW and y:\\n' + str(XtWy))\n",
    "\n",
    "        result = pakiet.mnozenie.multiplication(XtWX_inverse, XtWy)\n",
    "        print('Parameters:\\n' + str(result))\n",
    "        return(result)\n",
    "    \n",
    "    elif (b0 == 0): \n",
    "            sum_wxy = pakiet.suma.summation(x * y * w)\n",
    "            sum_wx2 = pakiet.suma.summation(w * x**2)\n",
    "            return(sum_wxy/sum_wx2)\n",
    "    else:\n",
    "        print('Inproper b0 value. b0 = 0 or b0 = 1.')"
   ]
  },
  {
   "cell_type": "code",
   "execution_count": 14,
   "id": "c987b4ad",
   "metadata": {},
   "outputs": [
    {
     "name": "stdout",
     "output_type": "stream",
     "text": [
      "Experiment matrix: \n",
      "[[1.  0.5]\n",
      " [1.  1. ]\n",
      " [1.  1.5]\n",
      " [1.  2. ]\n",
      " [1.  2.5]\n",
      " [1.  3.5]\n",
      " [1.  4. ]\n",
      " [1.  4.5]]\n",
      "Transposition of X:\n",
      "[[1.  1.  1.  1.  1.  1.  1.  1. ]\n",
      " [0.5 1.  1.5 2.  2.5 3.5 4.  4.5]]\n",
      "Multiplication of X transposed and W :\n",
      "[[ 4.  4.  4. 16.  4.  4.  1.  4.]\n",
      " [ 2.  4.  6. 32. 10. 14.  4. 18.]]\n",
      "Multiplication of X^tW transposed and X :\n",
      "[[ 41.  90.]\n",
      " [ 90. 249.]]\n",
      "Inversion of X^t * W * X  :\n",
      "[[ 0.11806543 -0.04267425]\n",
      " [-0.04267425  0.01944049]]\n",
      "Multiplication of X^tW and y:\n",
      "[[ 442.]\n",
      " [1176.]]\n",
      "Parameters:\n",
      "[[2.]\n",
      " [4.]]\n"
     ]
    },
    {
     "data": {
      "text/plain": [
       "array([[2.],\n",
       "       [4.]])"
      ]
     },
     "execution_count": 14,
     "metadata": {},
     "output_type": "execute_result"
    }
   ],
   "source": [
    "WLSM_parameters(x=dlugosc_szkolenia, y=wydajnosc, w=liczba_pracownikow, b0 = 1)"
   ]
  },
  {
   "cell_type": "markdown",
   "id": "8c947448",
   "metadata": {},
   "source": [
    "(a) $y = 4x +2$"
   ]
  },
  {
   "cell_type": "code",
   "execution_count": 15,
   "id": "89ac772c",
   "metadata": {},
   "outputs": [
    {
     "data": {
      "text/plain": [
       "array([4.72289157])"
      ]
     },
     "execution_count": 15,
     "metadata": {},
     "output_type": "execute_result"
    }
   ],
   "source": [
    "WLSM_parameters(x=dlugosc_szkolenia, y=wydajnosc, w=liczba_pracownikow, b0 = 0)"
   ]
  },
  {
   "cell_type": "markdown",
   "id": "31eae2a6",
   "metadata": {},
   "source": [
    "(b) $y \\approx 4.72289157 x$"
   ]
  }
 ],
 "metadata": {
  "kernelspec": {
   "display_name": "Python 3 (ipykernel)",
   "language": "python",
   "name": "python3"
  },
  "language_info": {
   "codemirror_mode": {
    "name": "ipython",
    "version": 3
   },
   "file_extension": ".py",
   "mimetype": "text/x-python",
   "name": "python",
   "nbconvert_exporter": "python",
   "pygments_lexer": "ipython3",
   "version": "3.9.12"
  }
 },
 "nbformat": 4,
 "nbformat_minor": 5
}
