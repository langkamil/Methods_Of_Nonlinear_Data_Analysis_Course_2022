{
 "cells": [
  {
   "cell_type": "markdown",
   "id": "36f955c3",
   "metadata": {
    "id": "36f955c3"
   },
   "source": [
    "# Program 6"
   ]
  },
  {
   "cell_type": "markdown",
   "id": "9e8e51b4",
   "metadata": {
    "id": "9e8e51b4"
   },
   "source": [
    "Aleksandra Burczyk \\\n",
    "Monika Gmaj \\\n",
    "Kinga Jankowska \\\n",
    "Kamil Łangowski"
   ]
  },
  {
   "cell_type": "markdown",
   "id": "98571ca8",
   "metadata": {
    "id": "98571ca8"
   },
   "source": [
    "### Zadanie 1"
   ]
  },
  {
   "cell_type": "markdown",
   "id": "64a49839",
   "metadata": {
    "id": "64a49839"
   },
   "source": [
    "Importujemy potrzebne biblioteki."
   ]
  },
  {
   "cell_type": "code",
   "execution_count": 1,
   "id": "015efcf0",
   "metadata": {
    "id": "015efcf0"
   },
   "outputs": [],
   "source": [
    "import pandas as pd\n",
    "import numpy as np \n",
    "import scipy as sp\n",
    "import sympy as sym"
   ]
  },
  {
   "cell_type": "markdown",
   "id": "9856c5a5",
   "metadata": {
    "id": "9856c5a5"
   },
   "source": [
    "### Zadanie 2"
   ]
  },
  {
   "cell_type": "markdown",
   "id": "d22bf92f",
   "metadata": {
    "id": "d22bf92f"
   },
   "source": [
    "Wczytujemy dane. "
   ]
  },
  {
   "cell_type": "code",
   "execution_count": 2,
   "id": "83907811",
   "metadata": {
    "id": "83907811"
   },
   "outputs": [],
   "source": [
    "churn = pd.read_csv(\"churn.txt\")"
   ]
  },
  {
   "cell_type": "code",
   "execution_count": 3,
   "id": "4a18cc68",
   "metadata": {
    "colab": {
     "base_uri": "https://localhost:8080/",
     "height": 679
    },
    "id": "4a18cc68",
    "outputId": "279b97a5-541f-4ceb-df4e-e2be575889bb"
   },
   "outputs": [
    {
     "data": {
      "text/html": [
       "<div>\n",
       "<style scoped>\n",
       "    .dataframe tbody tr th:only-of-type {\n",
       "        vertical-align: middle;\n",
       "    }\n",
       "\n",
       "    .dataframe tbody tr th {\n",
       "        vertical-align: top;\n",
       "    }\n",
       "\n",
       "    .dataframe thead th {\n",
       "        text-align: right;\n",
       "    }\n",
       "</style>\n",
       "<table border=\"1\" class=\"dataframe\">\n",
       "  <thead>\n",
       "    <tr style=\"text-align: right;\">\n",
       "      <th></th>\n",
       "      <th>State</th>\n",
       "      <th>Account Length</th>\n",
       "      <th>Area Code</th>\n",
       "      <th>Phone</th>\n",
       "      <th>Int'l Plan</th>\n",
       "      <th>VMail Plan</th>\n",
       "      <th>VMail Message</th>\n",
       "      <th>Day Mins</th>\n",
       "      <th>Day Calls</th>\n",
       "      <th>Day Charge</th>\n",
       "      <th>...</th>\n",
       "      <th>Eve Calls</th>\n",
       "      <th>Eve Charge</th>\n",
       "      <th>Night Mins</th>\n",
       "      <th>Night Calls</th>\n",
       "      <th>Night Charge</th>\n",
       "      <th>Intl Mins</th>\n",
       "      <th>Intl Calls</th>\n",
       "      <th>Intl Charge</th>\n",
       "      <th>CustServ Calls</th>\n",
       "      <th>Churn?</th>\n",
       "    </tr>\n",
       "  </thead>\n",
       "  <tbody>\n",
       "    <tr>\n",
       "      <th>0</th>\n",
       "      <td>KS</td>\n",
       "      <td>128</td>\n",
       "      <td>415</td>\n",
       "      <td>382-4657</td>\n",
       "      <td>no</td>\n",
       "      <td>yes</td>\n",
       "      <td>25</td>\n",
       "      <td>265.1</td>\n",
       "      <td>110</td>\n",
       "      <td>45.07</td>\n",
       "      <td>...</td>\n",
       "      <td>99</td>\n",
       "      <td>16.78</td>\n",
       "      <td>244.7</td>\n",
       "      <td>91</td>\n",
       "      <td>11.01</td>\n",
       "      <td>10.0</td>\n",
       "      <td>3</td>\n",
       "      <td>2.70</td>\n",
       "      <td>1</td>\n",
       "      <td>False.</td>\n",
       "    </tr>\n",
       "    <tr>\n",
       "      <th>1</th>\n",
       "      <td>OH</td>\n",
       "      <td>107</td>\n",
       "      <td>415</td>\n",
       "      <td>371-7191</td>\n",
       "      <td>no</td>\n",
       "      <td>yes</td>\n",
       "      <td>26</td>\n",
       "      <td>161.6</td>\n",
       "      <td>123</td>\n",
       "      <td>27.47</td>\n",
       "      <td>...</td>\n",
       "      <td>103</td>\n",
       "      <td>16.62</td>\n",
       "      <td>254.4</td>\n",
       "      <td>103</td>\n",
       "      <td>11.45</td>\n",
       "      <td>13.7</td>\n",
       "      <td>3</td>\n",
       "      <td>3.70</td>\n",
       "      <td>1</td>\n",
       "      <td>False.</td>\n",
       "    </tr>\n",
       "    <tr>\n",
       "      <th>2</th>\n",
       "      <td>NJ</td>\n",
       "      <td>137</td>\n",
       "      <td>415</td>\n",
       "      <td>358-1921</td>\n",
       "      <td>no</td>\n",
       "      <td>no</td>\n",
       "      <td>0</td>\n",
       "      <td>243.4</td>\n",
       "      <td>114</td>\n",
       "      <td>41.38</td>\n",
       "      <td>...</td>\n",
       "      <td>110</td>\n",
       "      <td>10.30</td>\n",
       "      <td>162.6</td>\n",
       "      <td>104</td>\n",
       "      <td>7.32</td>\n",
       "      <td>12.2</td>\n",
       "      <td>5</td>\n",
       "      <td>3.29</td>\n",
       "      <td>0</td>\n",
       "      <td>False.</td>\n",
       "    </tr>\n",
       "    <tr>\n",
       "      <th>3</th>\n",
       "      <td>OH</td>\n",
       "      <td>84</td>\n",
       "      <td>408</td>\n",
       "      <td>375-9999</td>\n",
       "      <td>yes</td>\n",
       "      <td>no</td>\n",
       "      <td>0</td>\n",
       "      <td>299.4</td>\n",
       "      <td>71</td>\n",
       "      <td>50.90</td>\n",
       "      <td>...</td>\n",
       "      <td>88</td>\n",
       "      <td>5.26</td>\n",
       "      <td>196.9</td>\n",
       "      <td>89</td>\n",
       "      <td>8.86</td>\n",
       "      <td>6.6</td>\n",
       "      <td>7</td>\n",
       "      <td>1.78</td>\n",
       "      <td>2</td>\n",
       "      <td>False.</td>\n",
       "    </tr>\n",
       "    <tr>\n",
       "      <th>4</th>\n",
       "      <td>OK</td>\n",
       "      <td>75</td>\n",
       "      <td>415</td>\n",
       "      <td>330-6626</td>\n",
       "      <td>yes</td>\n",
       "      <td>no</td>\n",
       "      <td>0</td>\n",
       "      <td>166.7</td>\n",
       "      <td>113</td>\n",
       "      <td>28.34</td>\n",
       "      <td>...</td>\n",
       "      <td>122</td>\n",
       "      <td>12.61</td>\n",
       "      <td>186.9</td>\n",
       "      <td>121</td>\n",
       "      <td>8.41</td>\n",
       "      <td>10.1</td>\n",
       "      <td>3</td>\n",
       "      <td>2.73</td>\n",
       "      <td>3</td>\n",
       "      <td>False.</td>\n",
       "    </tr>\n",
       "    <tr>\n",
       "      <th>...</th>\n",
       "      <td>...</td>\n",
       "      <td>...</td>\n",
       "      <td>...</td>\n",
       "      <td>...</td>\n",
       "      <td>...</td>\n",
       "      <td>...</td>\n",
       "      <td>...</td>\n",
       "      <td>...</td>\n",
       "      <td>...</td>\n",
       "      <td>...</td>\n",
       "      <td>...</td>\n",
       "      <td>...</td>\n",
       "      <td>...</td>\n",
       "      <td>...</td>\n",
       "      <td>...</td>\n",
       "      <td>...</td>\n",
       "      <td>...</td>\n",
       "      <td>...</td>\n",
       "      <td>...</td>\n",
       "      <td>...</td>\n",
       "      <td>...</td>\n",
       "    </tr>\n",
       "    <tr>\n",
       "      <th>3328</th>\n",
       "      <td>AZ</td>\n",
       "      <td>192</td>\n",
       "      <td>415</td>\n",
       "      <td>414-4276</td>\n",
       "      <td>no</td>\n",
       "      <td>yes</td>\n",
       "      <td>36</td>\n",
       "      <td>156.2</td>\n",
       "      <td>77</td>\n",
       "      <td>26.55</td>\n",
       "      <td>...</td>\n",
       "      <td>126</td>\n",
       "      <td>18.32</td>\n",
       "      <td>279.1</td>\n",
       "      <td>83</td>\n",
       "      <td>12.56</td>\n",
       "      <td>9.9</td>\n",
       "      <td>6</td>\n",
       "      <td>2.67</td>\n",
       "      <td>2</td>\n",
       "      <td>False.</td>\n",
       "    </tr>\n",
       "    <tr>\n",
       "      <th>3329</th>\n",
       "      <td>WV</td>\n",
       "      <td>68</td>\n",
       "      <td>415</td>\n",
       "      <td>370-3271</td>\n",
       "      <td>no</td>\n",
       "      <td>no</td>\n",
       "      <td>0</td>\n",
       "      <td>231.1</td>\n",
       "      <td>57</td>\n",
       "      <td>39.29</td>\n",
       "      <td>...</td>\n",
       "      <td>55</td>\n",
       "      <td>13.04</td>\n",
       "      <td>191.3</td>\n",
       "      <td>123</td>\n",
       "      <td>8.61</td>\n",
       "      <td>9.6</td>\n",
       "      <td>4</td>\n",
       "      <td>2.59</td>\n",
       "      <td>3</td>\n",
       "      <td>False.</td>\n",
       "    </tr>\n",
       "    <tr>\n",
       "      <th>3330</th>\n",
       "      <td>RI</td>\n",
       "      <td>28</td>\n",
       "      <td>510</td>\n",
       "      <td>328-8230</td>\n",
       "      <td>no</td>\n",
       "      <td>no</td>\n",
       "      <td>0</td>\n",
       "      <td>180.8</td>\n",
       "      <td>109</td>\n",
       "      <td>30.74</td>\n",
       "      <td>...</td>\n",
       "      <td>58</td>\n",
       "      <td>24.55</td>\n",
       "      <td>191.9</td>\n",
       "      <td>91</td>\n",
       "      <td>8.64</td>\n",
       "      <td>14.1</td>\n",
       "      <td>6</td>\n",
       "      <td>3.81</td>\n",
       "      <td>2</td>\n",
       "      <td>False.</td>\n",
       "    </tr>\n",
       "    <tr>\n",
       "      <th>3331</th>\n",
       "      <td>CT</td>\n",
       "      <td>184</td>\n",
       "      <td>510</td>\n",
       "      <td>364-6381</td>\n",
       "      <td>yes</td>\n",
       "      <td>no</td>\n",
       "      <td>0</td>\n",
       "      <td>213.8</td>\n",
       "      <td>105</td>\n",
       "      <td>36.35</td>\n",
       "      <td>...</td>\n",
       "      <td>84</td>\n",
       "      <td>13.57</td>\n",
       "      <td>139.2</td>\n",
       "      <td>137</td>\n",
       "      <td>6.26</td>\n",
       "      <td>5.0</td>\n",
       "      <td>10</td>\n",
       "      <td>1.35</td>\n",
       "      <td>2</td>\n",
       "      <td>False.</td>\n",
       "    </tr>\n",
       "    <tr>\n",
       "      <th>3332</th>\n",
       "      <td>TN</td>\n",
       "      <td>74</td>\n",
       "      <td>415</td>\n",
       "      <td>400-4344</td>\n",
       "      <td>no</td>\n",
       "      <td>yes</td>\n",
       "      <td>25</td>\n",
       "      <td>234.4</td>\n",
       "      <td>113</td>\n",
       "      <td>39.85</td>\n",
       "      <td>...</td>\n",
       "      <td>82</td>\n",
       "      <td>22.60</td>\n",
       "      <td>241.4</td>\n",
       "      <td>77</td>\n",
       "      <td>10.86</td>\n",
       "      <td>13.7</td>\n",
       "      <td>4</td>\n",
       "      <td>3.70</td>\n",
       "      <td>0</td>\n",
       "      <td>False.</td>\n",
       "    </tr>\n",
       "  </tbody>\n",
       "</table>\n",
       "<p>3333 rows × 21 columns</p>\n",
       "</div>"
      ],
      "text/plain": [
       "     State  Account Length  Area Code     Phone Int'l Plan VMail Plan  \\\n",
       "0       KS             128        415  382-4657         no        yes   \n",
       "1       OH             107        415  371-7191         no        yes   \n",
       "2       NJ             137        415  358-1921         no         no   \n",
       "3       OH              84        408  375-9999        yes         no   \n",
       "4       OK              75        415  330-6626        yes         no   \n",
       "...    ...             ...        ...       ...        ...        ...   \n",
       "3328    AZ             192        415  414-4276         no        yes   \n",
       "3329    WV              68        415  370-3271         no         no   \n",
       "3330    RI              28        510  328-8230         no         no   \n",
       "3331    CT             184        510  364-6381        yes         no   \n",
       "3332    TN              74        415  400-4344         no        yes   \n",
       "\n",
       "      VMail Message  Day Mins  Day Calls  Day Charge  ...  Eve Calls  \\\n",
       "0                25     265.1        110       45.07  ...         99   \n",
       "1                26     161.6        123       27.47  ...        103   \n",
       "2                 0     243.4        114       41.38  ...        110   \n",
       "3                 0     299.4         71       50.90  ...         88   \n",
       "4                 0     166.7        113       28.34  ...        122   \n",
       "...             ...       ...        ...         ...  ...        ...   \n",
       "3328             36     156.2         77       26.55  ...        126   \n",
       "3329              0     231.1         57       39.29  ...         55   \n",
       "3330              0     180.8        109       30.74  ...         58   \n",
       "3331              0     213.8        105       36.35  ...         84   \n",
       "3332             25     234.4        113       39.85  ...         82   \n",
       "\n",
       "      Eve Charge  Night Mins  Night Calls  Night Charge  Intl Mins  \\\n",
       "0          16.78       244.7           91         11.01       10.0   \n",
       "1          16.62       254.4          103         11.45       13.7   \n",
       "2          10.30       162.6          104          7.32       12.2   \n",
       "3           5.26       196.9           89          8.86        6.6   \n",
       "4          12.61       186.9          121          8.41       10.1   \n",
       "...          ...         ...          ...           ...        ...   \n",
       "3328       18.32       279.1           83         12.56        9.9   \n",
       "3329       13.04       191.3          123          8.61        9.6   \n",
       "3330       24.55       191.9           91          8.64       14.1   \n",
       "3331       13.57       139.2          137          6.26        5.0   \n",
       "3332       22.60       241.4           77         10.86       13.7   \n",
       "\n",
       "      Intl Calls  Intl Charge  CustServ Calls  Churn?  \n",
       "0              3         2.70               1  False.  \n",
       "1              3         3.70               1  False.  \n",
       "2              5         3.29               0  False.  \n",
       "3              7         1.78               2  False.  \n",
       "4              3         2.73               3  False.  \n",
       "...          ...          ...             ...     ...  \n",
       "3328           6         2.67               2  False.  \n",
       "3329           4         2.59               3  False.  \n",
       "3330           6         3.81               2  False.  \n",
       "3331          10         1.35               2  False.  \n",
       "3332           4         3.70               0  False.  \n",
       "\n",
       "[3333 rows x 21 columns]"
      ]
     },
     "execution_count": 3,
     "metadata": {},
     "output_type": "execute_result"
    }
   ],
   "source": [
    "churn"
   ]
  },
  {
   "cell_type": "markdown",
   "id": "15ef102e",
   "metadata": {
    "id": "15ef102e"
   },
   "source": [
    "### Zadanie 3"
   ]
  },
  {
   "cell_type": "markdown",
   "id": "31a321a2",
   "metadata": {
    "id": "31a321a2"
   },
   "source": [
    "Usuwamy kropki z rekordów kolumny 'Churn?' przy pomocy funkcji ***replace***."
   ]
  },
  {
   "cell_type": "code",
   "execution_count": 4,
   "id": "a66dd65d",
   "metadata": {
    "id": "a66dd65d"
   },
   "outputs": [],
   "source": [
    "new_churn = churn['Churn?'].astype('str').str.replace(r\".\", r\"\", regex=False)"
   ]
  },
  {
   "cell_type": "code",
   "execution_count": 5,
   "id": "705d42f4",
   "metadata": {
    "colab": {
     "base_uri": "https://localhost:8080/"
    },
    "id": "705d42f4",
    "outputId": "96f744b1-d8b2-4259-e751-1a6d97351ef3"
   },
   "outputs": [
    {
     "data": {
      "text/plain": [
       "0       False\n",
       "1       False\n",
       "2       False\n",
       "3       False\n",
       "4       False\n",
       "        ...  \n",
       "3328    False\n",
       "3329    False\n",
       "3330    False\n",
       "3331    False\n",
       "3332    False\n",
       "Name: Churn?, Length: 3333, dtype: object"
      ]
     },
     "execution_count": 5,
     "metadata": {},
     "output_type": "execute_result"
    }
   ],
   "source": [
    "new_churn"
   ]
  },
  {
   "cell_type": "markdown",
   "id": "722733a9",
   "metadata": {
    "id": "722733a9"
   },
   "source": [
    "### Zadanie 4"
   ]
  },
  {
   "cell_type": "markdown",
   "id": "06b7a8d7",
   "metadata": {
    "id": "06b7a8d7"
   },
   "source": [
    "Tworzymy nową ramkę danych wykorzystując funkcję ***copy()***. Ramka ta zawiera zmienne: 'Churn?' oraz 'Cust Serv Calls'."
   ]
  },
  {
   "cell_type": "code",
   "execution_count": 6,
   "id": "237811a1",
   "metadata": {
    "id": "237811a1"
   },
   "outputs": [],
   "source": [
    "churn['Churn?'] = new_churn"
   ]
  },
  {
   "cell_type": "code",
   "execution_count": 7,
   "id": "c97eb987",
   "metadata": {
    "colab": {
     "base_uri": "https://localhost:8080/",
     "height": 679
    },
    "id": "c97eb987",
    "outputId": "fef7fa8c-a284-42a8-b6c9-dfb572f48557"
   },
   "outputs": [
    {
     "data": {
      "text/html": [
       "<div>\n",
       "<style scoped>\n",
       "    .dataframe tbody tr th:only-of-type {\n",
       "        vertical-align: middle;\n",
       "    }\n",
       "\n",
       "    .dataframe tbody tr th {\n",
       "        vertical-align: top;\n",
       "    }\n",
       "\n",
       "    .dataframe thead th {\n",
       "        text-align: right;\n",
       "    }\n",
       "</style>\n",
       "<table border=\"1\" class=\"dataframe\">\n",
       "  <thead>\n",
       "    <tr style=\"text-align: right;\">\n",
       "      <th></th>\n",
       "      <th>State</th>\n",
       "      <th>Account Length</th>\n",
       "      <th>Area Code</th>\n",
       "      <th>Phone</th>\n",
       "      <th>Int'l Plan</th>\n",
       "      <th>VMail Plan</th>\n",
       "      <th>VMail Message</th>\n",
       "      <th>Day Mins</th>\n",
       "      <th>Day Calls</th>\n",
       "      <th>Day Charge</th>\n",
       "      <th>...</th>\n",
       "      <th>Eve Calls</th>\n",
       "      <th>Eve Charge</th>\n",
       "      <th>Night Mins</th>\n",
       "      <th>Night Calls</th>\n",
       "      <th>Night Charge</th>\n",
       "      <th>Intl Mins</th>\n",
       "      <th>Intl Calls</th>\n",
       "      <th>Intl Charge</th>\n",
       "      <th>CustServ Calls</th>\n",
       "      <th>Churn?</th>\n",
       "    </tr>\n",
       "  </thead>\n",
       "  <tbody>\n",
       "    <tr>\n",
       "      <th>0</th>\n",
       "      <td>KS</td>\n",
       "      <td>128</td>\n",
       "      <td>415</td>\n",
       "      <td>382-4657</td>\n",
       "      <td>no</td>\n",
       "      <td>yes</td>\n",
       "      <td>25</td>\n",
       "      <td>265.1</td>\n",
       "      <td>110</td>\n",
       "      <td>45.07</td>\n",
       "      <td>...</td>\n",
       "      <td>99</td>\n",
       "      <td>16.78</td>\n",
       "      <td>244.7</td>\n",
       "      <td>91</td>\n",
       "      <td>11.01</td>\n",
       "      <td>10.0</td>\n",
       "      <td>3</td>\n",
       "      <td>2.70</td>\n",
       "      <td>1</td>\n",
       "      <td>False</td>\n",
       "    </tr>\n",
       "    <tr>\n",
       "      <th>1</th>\n",
       "      <td>OH</td>\n",
       "      <td>107</td>\n",
       "      <td>415</td>\n",
       "      <td>371-7191</td>\n",
       "      <td>no</td>\n",
       "      <td>yes</td>\n",
       "      <td>26</td>\n",
       "      <td>161.6</td>\n",
       "      <td>123</td>\n",
       "      <td>27.47</td>\n",
       "      <td>...</td>\n",
       "      <td>103</td>\n",
       "      <td>16.62</td>\n",
       "      <td>254.4</td>\n",
       "      <td>103</td>\n",
       "      <td>11.45</td>\n",
       "      <td>13.7</td>\n",
       "      <td>3</td>\n",
       "      <td>3.70</td>\n",
       "      <td>1</td>\n",
       "      <td>False</td>\n",
       "    </tr>\n",
       "    <tr>\n",
       "      <th>2</th>\n",
       "      <td>NJ</td>\n",
       "      <td>137</td>\n",
       "      <td>415</td>\n",
       "      <td>358-1921</td>\n",
       "      <td>no</td>\n",
       "      <td>no</td>\n",
       "      <td>0</td>\n",
       "      <td>243.4</td>\n",
       "      <td>114</td>\n",
       "      <td>41.38</td>\n",
       "      <td>...</td>\n",
       "      <td>110</td>\n",
       "      <td>10.30</td>\n",
       "      <td>162.6</td>\n",
       "      <td>104</td>\n",
       "      <td>7.32</td>\n",
       "      <td>12.2</td>\n",
       "      <td>5</td>\n",
       "      <td>3.29</td>\n",
       "      <td>0</td>\n",
       "      <td>False</td>\n",
       "    </tr>\n",
       "    <tr>\n",
       "      <th>3</th>\n",
       "      <td>OH</td>\n",
       "      <td>84</td>\n",
       "      <td>408</td>\n",
       "      <td>375-9999</td>\n",
       "      <td>yes</td>\n",
       "      <td>no</td>\n",
       "      <td>0</td>\n",
       "      <td>299.4</td>\n",
       "      <td>71</td>\n",
       "      <td>50.90</td>\n",
       "      <td>...</td>\n",
       "      <td>88</td>\n",
       "      <td>5.26</td>\n",
       "      <td>196.9</td>\n",
       "      <td>89</td>\n",
       "      <td>8.86</td>\n",
       "      <td>6.6</td>\n",
       "      <td>7</td>\n",
       "      <td>1.78</td>\n",
       "      <td>2</td>\n",
       "      <td>False</td>\n",
       "    </tr>\n",
       "    <tr>\n",
       "      <th>4</th>\n",
       "      <td>OK</td>\n",
       "      <td>75</td>\n",
       "      <td>415</td>\n",
       "      <td>330-6626</td>\n",
       "      <td>yes</td>\n",
       "      <td>no</td>\n",
       "      <td>0</td>\n",
       "      <td>166.7</td>\n",
       "      <td>113</td>\n",
       "      <td>28.34</td>\n",
       "      <td>...</td>\n",
       "      <td>122</td>\n",
       "      <td>12.61</td>\n",
       "      <td>186.9</td>\n",
       "      <td>121</td>\n",
       "      <td>8.41</td>\n",
       "      <td>10.1</td>\n",
       "      <td>3</td>\n",
       "      <td>2.73</td>\n",
       "      <td>3</td>\n",
       "      <td>False</td>\n",
       "    </tr>\n",
       "    <tr>\n",
       "      <th>...</th>\n",
       "      <td>...</td>\n",
       "      <td>...</td>\n",
       "      <td>...</td>\n",
       "      <td>...</td>\n",
       "      <td>...</td>\n",
       "      <td>...</td>\n",
       "      <td>...</td>\n",
       "      <td>...</td>\n",
       "      <td>...</td>\n",
       "      <td>...</td>\n",
       "      <td>...</td>\n",
       "      <td>...</td>\n",
       "      <td>...</td>\n",
       "      <td>...</td>\n",
       "      <td>...</td>\n",
       "      <td>...</td>\n",
       "      <td>...</td>\n",
       "      <td>...</td>\n",
       "      <td>...</td>\n",
       "      <td>...</td>\n",
       "      <td>...</td>\n",
       "    </tr>\n",
       "    <tr>\n",
       "      <th>3328</th>\n",
       "      <td>AZ</td>\n",
       "      <td>192</td>\n",
       "      <td>415</td>\n",
       "      <td>414-4276</td>\n",
       "      <td>no</td>\n",
       "      <td>yes</td>\n",
       "      <td>36</td>\n",
       "      <td>156.2</td>\n",
       "      <td>77</td>\n",
       "      <td>26.55</td>\n",
       "      <td>...</td>\n",
       "      <td>126</td>\n",
       "      <td>18.32</td>\n",
       "      <td>279.1</td>\n",
       "      <td>83</td>\n",
       "      <td>12.56</td>\n",
       "      <td>9.9</td>\n",
       "      <td>6</td>\n",
       "      <td>2.67</td>\n",
       "      <td>2</td>\n",
       "      <td>False</td>\n",
       "    </tr>\n",
       "    <tr>\n",
       "      <th>3329</th>\n",
       "      <td>WV</td>\n",
       "      <td>68</td>\n",
       "      <td>415</td>\n",
       "      <td>370-3271</td>\n",
       "      <td>no</td>\n",
       "      <td>no</td>\n",
       "      <td>0</td>\n",
       "      <td>231.1</td>\n",
       "      <td>57</td>\n",
       "      <td>39.29</td>\n",
       "      <td>...</td>\n",
       "      <td>55</td>\n",
       "      <td>13.04</td>\n",
       "      <td>191.3</td>\n",
       "      <td>123</td>\n",
       "      <td>8.61</td>\n",
       "      <td>9.6</td>\n",
       "      <td>4</td>\n",
       "      <td>2.59</td>\n",
       "      <td>3</td>\n",
       "      <td>False</td>\n",
       "    </tr>\n",
       "    <tr>\n",
       "      <th>3330</th>\n",
       "      <td>RI</td>\n",
       "      <td>28</td>\n",
       "      <td>510</td>\n",
       "      <td>328-8230</td>\n",
       "      <td>no</td>\n",
       "      <td>no</td>\n",
       "      <td>0</td>\n",
       "      <td>180.8</td>\n",
       "      <td>109</td>\n",
       "      <td>30.74</td>\n",
       "      <td>...</td>\n",
       "      <td>58</td>\n",
       "      <td>24.55</td>\n",
       "      <td>191.9</td>\n",
       "      <td>91</td>\n",
       "      <td>8.64</td>\n",
       "      <td>14.1</td>\n",
       "      <td>6</td>\n",
       "      <td>3.81</td>\n",
       "      <td>2</td>\n",
       "      <td>False</td>\n",
       "    </tr>\n",
       "    <tr>\n",
       "      <th>3331</th>\n",
       "      <td>CT</td>\n",
       "      <td>184</td>\n",
       "      <td>510</td>\n",
       "      <td>364-6381</td>\n",
       "      <td>yes</td>\n",
       "      <td>no</td>\n",
       "      <td>0</td>\n",
       "      <td>213.8</td>\n",
       "      <td>105</td>\n",
       "      <td>36.35</td>\n",
       "      <td>...</td>\n",
       "      <td>84</td>\n",
       "      <td>13.57</td>\n",
       "      <td>139.2</td>\n",
       "      <td>137</td>\n",
       "      <td>6.26</td>\n",
       "      <td>5.0</td>\n",
       "      <td>10</td>\n",
       "      <td>1.35</td>\n",
       "      <td>2</td>\n",
       "      <td>False</td>\n",
       "    </tr>\n",
       "    <tr>\n",
       "      <th>3332</th>\n",
       "      <td>TN</td>\n",
       "      <td>74</td>\n",
       "      <td>415</td>\n",
       "      <td>400-4344</td>\n",
       "      <td>no</td>\n",
       "      <td>yes</td>\n",
       "      <td>25</td>\n",
       "      <td>234.4</td>\n",
       "      <td>113</td>\n",
       "      <td>39.85</td>\n",
       "      <td>...</td>\n",
       "      <td>82</td>\n",
       "      <td>22.60</td>\n",
       "      <td>241.4</td>\n",
       "      <td>77</td>\n",
       "      <td>10.86</td>\n",
       "      <td>13.7</td>\n",
       "      <td>4</td>\n",
       "      <td>3.70</td>\n",
       "      <td>0</td>\n",
       "      <td>False</td>\n",
       "    </tr>\n",
       "  </tbody>\n",
       "</table>\n",
       "<p>3333 rows × 21 columns</p>\n",
       "</div>"
      ],
      "text/plain": [
       "     State  Account Length  Area Code     Phone Int'l Plan VMail Plan  \\\n",
       "0       KS             128        415  382-4657         no        yes   \n",
       "1       OH             107        415  371-7191         no        yes   \n",
       "2       NJ             137        415  358-1921         no         no   \n",
       "3       OH              84        408  375-9999        yes         no   \n",
       "4       OK              75        415  330-6626        yes         no   \n",
       "...    ...             ...        ...       ...        ...        ...   \n",
       "3328    AZ             192        415  414-4276         no        yes   \n",
       "3329    WV              68        415  370-3271         no         no   \n",
       "3330    RI              28        510  328-8230         no         no   \n",
       "3331    CT             184        510  364-6381        yes         no   \n",
       "3332    TN              74        415  400-4344         no        yes   \n",
       "\n",
       "      VMail Message  Day Mins  Day Calls  Day Charge  ...  Eve Calls  \\\n",
       "0                25     265.1        110       45.07  ...         99   \n",
       "1                26     161.6        123       27.47  ...        103   \n",
       "2                 0     243.4        114       41.38  ...        110   \n",
       "3                 0     299.4         71       50.90  ...         88   \n",
       "4                 0     166.7        113       28.34  ...        122   \n",
       "...             ...       ...        ...         ...  ...        ...   \n",
       "3328             36     156.2         77       26.55  ...        126   \n",
       "3329              0     231.1         57       39.29  ...         55   \n",
       "3330              0     180.8        109       30.74  ...         58   \n",
       "3331              0     213.8        105       36.35  ...         84   \n",
       "3332             25     234.4        113       39.85  ...         82   \n",
       "\n",
       "      Eve Charge  Night Mins  Night Calls  Night Charge  Intl Mins  \\\n",
       "0          16.78       244.7           91         11.01       10.0   \n",
       "1          16.62       254.4          103         11.45       13.7   \n",
       "2          10.30       162.6          104          7.32       12.2   \n",
       "3           5.26       196.9           89          8.86        6.6   \n",
       "4          12.61       186.9          121          8.41       10.1   \n",
       "...          ...         ...          ...           ...        ...   \n",
       "3328       18.32       279.1           83         12.56        9.9   \n",
       "3329       13.04       191.3          123          8.61        9.6   \n",
       "3330       24.55       191.9           91          8.64       14.1   \n",
       "3331       13.57       139.2          137          6.26        5.0   \n",
       "3332       22.60       241.4           77         10.86       13.7   \n",
       "\n",
       "      Intl Calls  Intl Charge  CustServ Calls  Churn?  \n",
       "0              3         2.70               1   False  \n",
       "1              3         3.70               1   False  \n",
       "2              5         3.29               0   False  \n",
       "3              7         1.78               2   False  \n",
       "4              3         2.73               3   False  \n",
       "...          ...          ...             ...     ...  \n",
       "3328           6         2.67               2   False  \n",
       "3329           4         2.59               3   False  \n",
       "3330           6         3.81               2   False  \n",
       "3331          10         1.35               2   False  \n",
       "3332           4         3.70               0   False  \n",
       "\n",
       "[3333 rows x 21 columns]"
      ]
     },
     "execution_count": 7,
     "metadata": {},
     "output_type": "execute_result"
    }
   ],
   "source": [
    "churn"
   ]
  },
  {
   "cell_type": "code",
   "execution_count": 8,
   "id": "1b6d69e8",
   "metadata": {
    "id": "1b6d69e8"
   },
   "outputs": [],
   "source": [
    "new_df = churn[['Churn?','CustServ Calls']].copy()"
   ]
  },
  {
   "cell_type": "code",
   "execution_count": 52,
   "id": "68fe16d8",
   "metadata": {
    "colab": {
     "base_uri": "https://localhost:8080/",
     "height": 424
    },
    "id": "68fe16d8",
    "outputId": "4656d794-3683-4ecf-eb06-75c504731a50"
   },
   "outputs": [
    {
     "data": {
      "text/html": [
       "<div>\n",
       "<style scoped>\n",
       "    .dataframe tbody tr th:only-of-type {\n",
       "        vertical-align: middle;\n",
       "    }\n",
       "\n",
       "    .dataframe tbody tr th {\n",
       "        vertical-align: top;\n",
       "    }\n",
       "\n",
       "    .dataframe thead th {\n",
       "        text-align: right;\n",
       "    }\n",
       "</style>\n",
       "<table border=\"1\" class=\"dataframe\">\n",
       "  <thead>\n",
       "    <tr style=\"text-align: right;\">\n",
       "      <th></th>\n",
       "      <th>Churn?</th>\n",
       "      <th>CSC</th>\n",
       "    </tr>\n",
       "  </thead>\n",
       "  <tbody>\n",
       "    <tr>\n",
       "      <th>0</th>\n",
       "      <td>False</td>\n",
       "      <td>małe</td>\n",
       "    </tr>\n",
       "    <tr>\n",
       "      <th>1</th>\n",
       "      <td>False</td>\n",
       "      <td>małe</td>\n",
       "    </tr>\n",
       "    <tr>\n",
       "      <th>2</th>\n",
       "      <td>False</td>\n",
       "      <td>małe</td>\n",
       "    </tr>\n",
       "    <tr>\n",
       "      <th>3</th>\n",
       "      <td>False</td>\n",
       "      <td>średnie</td>\n",
       "    </tr>\n",
       "    <tr>\n",
       "      <th>4</th>\n",
       "      <td>False</td>\n",
       "      <td>średnie</td>\n",
       "    </tr>\n",
       "    <tr>\n",
       "      <th>5</th>\n",
       "      <td>False</td>\n",
       "      <td>małe</td>\n",
       "    </tr>\n",
       "    <tr>\n",
       "      <th>6</th>\n",
       "      <td>False</td>\n",
       "      <td>średnie</td>\n",
       "    </tr>\n",
       "    <tr>\n",
       "      <th>7</th>\n",
       "      <td>False</td>\n",
       "      <td>małe</td>\n",
       "    </tr>\n",
       "    <tr>\n",
       "      <th>8</th>\n",
       "      <td>False</td>\n",
       "      <td>małe</td>\n",
       "    </tr>\n",
       "    <tr>\n",
       "      <th>9</th>\n",
       "      <td>False</td>\n",
       "      <td>małe</td>\n",
       "    </tr>\n",
       "    <tr>\n",
       "      <th>10</th>\n",
       "      <td>True</td>\n",
       "      <td>wysokie</td>\n",
       "    </tr>\n",
       "    <tr>\n",
       "      <th>11</th>\n",
       "      <td>False</td>\n",
       "      <td>małe</td>\n",
       "    </tr>\n",
       "    <tr>\n",
       "      <th>12</th>\n",
       "      <td>False</td>\n",
       "      <td>małe</td>\n",
       "    </tr>\n",
       "    <tr>\n",
       "      <th>13</th>\n",
       "      <td>False</td>\n",
       "      <td>średnie</td>\n",
       "    </tr>\n",
       "    <tr>\n",
       "      <th>14</th>\n",
       "      <td>False</td>\n",
       "      <td>wysokie</td>\n",
       "    </tr>\n",
       "  </tbody>\n",
       "</table>\n",
       "</div>"
      ],
      "text/plain": [
       "   Churn?      CSC\n",
       "0   False     małe\n",
       "1   False     małe\n",
       "2   False     małe\n",
       "3   False  średnie\n",
       "4   False  średnie\n",
       "5   False     małe\n",
       "6   False  średnie\n",
       "7   False     małe\n",
       "8   False     małe\n",
       "9   False     małe\n",
       "10   True  wysokie\n",
       "11  False     małe\n",
       "12  False     małe\n",
       "13  False  średnie\n",
       "14  False  wysokie"
      ]
     },
     "execution_count": 52,
     "metadata": {},
     "output_type": "execute_result"
    }
   ],
   "source": [
    "new_df.head(15)"
   ]
  },
  {
   "cell_type": "markdown",
   "id": "89397b9e",
   "metadata": {
    "id": "89397b9e"
   },
   "source": [
    "### Zadanie 5"
   ]
  },
  {
   "cell_type": "markdown",
   "id": "1fa771da",
   "metadata": {
    "id": "1fa771da"
   },
   "source": [
    "Tworzymy nową zmienną bazując na poniższych warunkach:\n",
    "- 0 lub 1 rozmowa z biurem obsługi klienta $\\Longleftrightarrow$ CSC przyjmuje wartości małe\n",
    "- 2 lub 3 rozmowy z biurem obsługi klienta $\\Longleftrightarrow$ CSC przyjmuje wartości średnie\n",
    "- 4 lub więcej rozmów z biurem obsługi klienta $\\Longleftrightarrow$ CSC przyjmuje wartości wysokie"
   ]
  },
  {
   "cell_type": "markdown",
   "id": "1f6dab08",
   "metadata": {
    "id": "1f6dab08"
   },
   "source": [
    "W tym celu korzystamy z funkcji ***where*** z pakietu **numpy**. Zwraca ona elementy na podstawie postawionych warunków. "
   ]
  },
  {
   "cell_type": "code",
   "execution_count": 10,
   "id": "47351e8c",
   "metadata": {
    "id": "47351e8c"
   },
   "outputs": [],
   "source": [
    "new_df['CustServ Calls'] = np.where((new_df['CustServ Calls'] >= 0) & (new_df['CustServ Calls'] <= 1), 'małe',\n",
    "                   np.where((new_df['CustServ Calls'] >= 2) & (new_df['CustServ Calls'] <= 3), 'średnie', 'wysokie'))"
   ]
  },
  {
   "cell_type": "code",
   "execution_count": 51,
   "id": "3bd6ab29",
   "metadata": {
    "colab": {
     "base_uri": "https://localhost:8080/",
     "height": 424
    },
    "id": "3bd6ab29",
    "outputId": "8550300b-240c-461e-d845-75e84170839c"
   },
   "outputs": [
    {
     "data": {
      "text/html": [
       "<div>\n",
       "<style scoped>\n",
       "    .dataframe tbody tr th:only-of-type {\n",
       "        vertical-align: middle;\n",
       "    }\n",
       "\n",
       "    .dataframe tbody tr th {\n",
       "        vertical-align: top;\n",
       "    }\n",
       "\n",
       "    .dataframe thead th {\n",
       "        text-align: right;\n",
       "    }\n",
       "</style>\n",
       "<table border=\"1\" class=\"dataframe\">\n",
       "  <thead>\n",
       "    <tr style=\"text-align: right;\">\n",
       "      <th></th>\n",
       "      <th>Churn?</th>\n",
       "      <th>CSC</th>\n",
       "    </tr>\n",
       "  </thead>\n",
       "  <tbody>\n",
       "    <tr>\n",
       "      <th>0</th>\n",
       "      <td>False</td>\n",
       "      <td>małe</td>\n",
       "    </tr>\n",
       "    <tr>\n",
       "      <th>1</th>\n",
       "      <td>False</td>\n",
       "      <td>małe</td>\n",
       "    </tr>\n",
       "    <tr>\n",
       "      <th>2</th>\n",
       "      <td>False</td>\n",
       "      <td>małe</td>\n",
       "    </tr>\n",
       "    <tr>\n",
       "      <th>3</th>\n",
       "      <td>False</td>\n",
       "      <td>średnie</td>\n",
       "    </tr>\n",
       "    <tr>\n",
       "      <th>4</th>\n",
       "      <td>False</td>\n",
       "      <td>średnie</td>\n",
       "    </tr>\n",
       "    <tr>\n",
       "      <th>5</th>\n",
       "      <td>False</td>\n",
       "      <td>małe</td>\n",
       "    </tr>\n",
       "    <tr>\n",
       "      <th>6</th>\n",
       "      <td>False</td>\n",
       "      <td>średnie</td>\n",
       "    </tr>\n",
       "    <tr>\n",
       "      <th>7</th>\n",
       "      <td>False</td>\n",
       "      <td>małe</td>\n",
       "    </tr>\n",
       "    <tr>\n",
       "      <th>8</th>\n",
       "      <td>False</td>\n",
       "      <td>małe</td>\n",
       "    </tr>\n",
       "    <tr>\n",
       "      <th>9</th>\n",
       "      <td>False</td>\n",
       "      <td>małe</td>\n",
       "    </tr>\n",
       "    <tr>\n",
       "      <th>10</th>\n",
       "      <td>True</td>\n",
       "      <td>wysokie</td>\n",
       "    </tr>\n",
       "    <tr>\n",
       "      <th>11</th>\n",
       "      <td>False</td>\n",
       "      <td>małe</td>\n",
       "    </tr>\n",
       "    <tr>\n",
       "      <th>12</th>\n",
       "      <td>False</td>\n",
       "      <td>małe</td>\n",
       "    </tr>\n",
       "    <tr>\n",
       "      <th>13</th>\n",
       "      <td>False</td>\n",
       "      <td>średnie</td>\n",
       "    </tr>\n",
       "    <tr>\n",
       "      <th>14</th>\n",
       "      <td>False</td>\n",
       "      <td>wysokie</td>\n",
       "    </tr>\n",
       "  </tbody>\n",
       "</table>\n",
       "</div>"
      ],
      "text/plain": [
       "   Churn?      CSC\n",
       "0   False     małe\n",
       "1   False     małe\n",
       "2   False     małe\n",
       "3   False  średnie\n",
       "4   False  średnie\n",
       "5   False     małe\n",
       "6   False  średnie\n",
       "7   False     małe\n",
       "8   False     małe\n",
       "9   False     małe\n",
       "10   True  wysokie\n",
       "11  False     małe\n",
       "12  False     małe\n",
       "13  False  średnie\n",
       "14  False  wysokie"
      ]
     },
     "execution_count": 51,
     "metadata": {},
     "output_type": "execute_result"
    }
   ],
   "source": [
    "new_df.rename({'CustServ Calls': 'CSC'}, axis=1, inplace=True)\n",
    "new_df\n",
    "new_df.head(15)"
   ]
  },
  {
   "cell_type": "markdown",
   "id": "0d5fdf86",
   "metadata": {
    "id": "0d5fdf86"
   },
   "source": [
    "### Zadanie 6"
   ]
  },
  {
   "cell_type": "markdown",
   "id": "382362d1",
   "metadata": {
    "id": "382362d1"
   },
   "source": [
    "Tworzymy tabelę krzyżową zmiennych 'Churn?' oraz 'CustServ Calls'. Korzystamy z funkcji ***crosstable*** pochodzącej z pakietu **pandas**. "
   ]
  },
  {
   "cell_type": "code",
   "execution_count": 12,
   "id": "0ac216ba",
   "metadata": {
    "id": "0ac216ba"
   },
   "outputs": [],
   "source": [
    "tabela = pd.crosstab(new_df['Churn?'], new_df['CSC'])"
   ]
  },
  {
   "cell_type": "code",
   "execution_count": 13,
   "id": "5ccf7a85",
   "metadata": {
    "colab": {
     "base_uri": "https://localhost:8080/",
     "height": 143
    },
    "id": "5ccf7a85",
    "outputId": "a19fe575-93be-4402-e836-3c3001f2e4ed"
   },
   "outputs": [
    {
     "data": {
      "text/html": [
       "<div>\n",
       "<style scoped>\n",
       "    .dataframe tbody tr th:only-of-type {\n",
       "        vertical-align: middle;\n",
       "    }\n",
       "\n",
       "    .dataframe tbody tr th {\n",
       "        vertical-align: top;\n",
       "    }\n",
       "\n",
       "    .dataframe thead th {\n",
       "        text-align: right;\n",
       "    }\n",
       "</style>\n",
       "<table border=\"1\" class=\"dataframe\">\n",
       "  <thead>\n",
       "    <tr style=\"text-align: right;\">\n",
       "      <th>CSC</th>\n",
       "      <th>małe</th>\n",
       "      <th>wysokie</th>\n",
       "      <th>średnie</th>\n",
       "    </tr>\n",
       "    <tr>\n",
       "      <th>Churn?</th>\n",
       "      <th></th>\n",
       "      <th></th>\n",
       "      <th></th>\n",
       "    </tr>\n",
       "  </thead>\n",
       "  <tbody>\n",
       "    <tr>\n",
       "      <th>False</th>\n",
       "      <td>1664</td>\n",
       "      <td>129</td>\n",
       "      <td>1057</td>\n",
       "    </tr>\n",
       "    <tr>\n",
       "      <th>True</th>\n",
       "      <td>214</td>\n",
       "      <td>138</td>\n",
       "      <td>131</td>\n",
       "    </tr>\n",
       "  </tbody>\n",
       "</table>\n",
       "</div>"
      ],
      "text/plain": [
       "CSC     małe  wysokie  średnie\n",
       "Churn?                        \n",
       "False   1664      129     1057\n",
       "True     214      138      131"
      ]
     },
     "execution_count": 13,
     "metadata": {},
     "output_type": "execute_result"
    }
   ],
   "source": [
    "tabela"
   ]
  },
  {
   "cell_type": "code",
   "execution_count": 14,
   "id": "6kaVQ3Rejih6",
   "metadata": {
    "id": "6kaVQ3Rejih6"
   },
   "outputs": [],
   "source": [
    "tab = tabela[['małe','średnie','wysokie']].copy()"
   ]
  },
  {
   "cell_type": "code",
   "execution_count": 15,
   "id": "EJ60oM5kjvbJ",
   "metadata": {
    "colab": {
     "base_uri": "https://localhost:8080/",
     "height": 143
    },
    "id": "EJ60oM5kjvbJ",
    "outputId": "06ac07f3-b407-4f64-a3b6-8163691666dd"
   },
   "outputs": [
    {
     "data": {
      "text/html": [
       "<div>\n",
       "<style scoped>\n",
       "    .dataframe tbody tr th:only-of-type {\n",
       "        vertical-align: middle;\n",
       "    }\n",
       "\n",
       "    .dataframe tbody tr th {\n",
       "        vertical-align: top;\n",
       "    }\n",
       "\n",
       "    .dataframe thead th {\n",
       "        text-align: right;\n",
       "    }\n",
       "</style>\n",
       "<table border=\"1\" class=\"dataframe\">\n",
       "  <thead>\n",
       "    <tr style=\"text-align: right;\">\n",
       "      <th>CSC</th>\n",
       "      <th>małe</th>\n",
       "      <th>średnie</th>\n",
       "      <th>wysokie</th>\n",
       "    </tr>\n",
       "    <tr>\n",
       "      <th>Churn?</th>\n",
       "      <th></th>\n",
       "      <th></th>\n",
       "      <th></th>\n",
       "    </tr>\n",
       "  </thead>\n",
       "  <tbody>\n",
       "    <tr>\n",
       "      <th>False</th>\n",
       "      <td>1664</td>\n",
       "      <td>1057</td>\n",
       "      <td>129</td>\n",
       "    </tr>\n",
       "    <tr>\n",
       "      <th>True</th>\n",
       "      <td>214</td>\n",
       "      <td>131</td>\n",
       "      <td>138</td>\n",
       "    </tr>\n",
       "  </tbody>\n",
       "</table>\n",
       "</div>"
      ],
      "text/plain": [
       "CSC     małe  średnie  wysokie\n",
       "Churn?                        \n",
       "False   1664     1057      129\n",
       "True     214      131      138"
      ]
     },
     "execution_count": 15,
     "metadata": {},
     "output_type": "execute_result"
    }
   ],
   "source": [
    "tab"
   ]
  },
  {
   "cell_type": "markdown",
   "id": "8d68922f",
   "metadata": {
    "id": "8d68922f"
   },
   "source": [
    "### Zadanie 7"
   ]
  },
  {
   "cell_type": "markdown",
   "id": "3f6554e4",
   "metadata": {
    "id": "3f6554e4"
   },
   "source": [
    "Tworzymy dwie nowe zmienne wskaźnikowe o nazwach 'CSC_sr' i 'CSC_wys':\n",
    "- dla małej liczby rozmów CSC_sr = 0, CSC_wys = 0\n",
    "- dla średniej liczby rozmów CSC_sr = 1, CSC_wys = 0\n",
    "- dla wysokiej liczby rozmów CSC_sr = 0, CSC_wys = 1"
   ]
  },
  {
   "cell_type": "code",
   "execution_count": 16,
   "id": "ab7a64fe",
   "metadata": {
    "id": "ab7a64fe"
   },
   "outputs": [],
   "source": [
    "conditions = [new_df['CSC'] == \"małe\",  new_df['CSC'] == \"średnie\", new_df['CSC'] == \"wysokie\"]\n",
    "choices_sr = [0,1,0]\n",
    "choices_wys = [0,0,1]"
   ]
  },
  {
   "cell_type": "code",
   "execution_count": 17,
   "id": "d0663257",
   "metadata": {
    "id": "d0663257"
   },
   "outputs": [],
   "source": [
    "CSC_sr = np.select(conditions, choices_sr)"
   ]
  },
  {
   "cell_type": "code",
   "execution_count": 18,
   "id": "9c7fddb4",
   "metadata": {
    "colab": {
     "base_uri": "https://localhost:8080/"
    },
    "id": "9c7fddb4",
    "outputId": "dd9cbf5b-159d-4517-937e-a58b4a6ff542"
   },
   "outputs": [
    {
     "data": {
      "text/plain": [
       "array([0, 0, 0, ..., 1, 1, 0])"
      ]
     },
     "execution_count": 18,
     "metadata": {},
     "output_type": "execute_result"
    }
   ],
   "source": [
    "CSC_sr"
   ]
  },
  {
   "cell_type": "code",
   "execution_count": 55,
   "id": "898a0553",
   "metadata": {},
   "outputs": [
    {
     "data": {
      "text/plain": [
       "array([0, 0, 0, 1, 1, 0, 1, 0, 0, 0, 0, 0, 0, 1, 0])"
      ]
     },
     "execution_count": 55,
     "metadata": {},
     "output_type": "execute_result"
    }
   ],
   "source": [
    "CSC_sr[0:15]"
   ]
  },
  {
   "cell_type": "code",
   "execution_count": 19,
   "id": "64d48c5d",
   "metadata": {
    "id": "64d48c5d"
   },
   "outputs": [],
   "source": [
    "CSC_wys = np.select(conditions, choices_wys)"
   ]
  },
  {
   "cell_type": "code",
   "execution_count": 48,
   "id": "73d14d7e",
   "metadata": {
    "colab": {
     "base_uri": "https://localhost:8080/"
    },
    "id": "73d14d7e",
    "outputId": "81bb2e1b-7006-40f2-8e76-747009a39137"
   },
   "outputs": [
    {
     "data": {
      "text/plain": [
       "array([0, 0, 0, ..., 0, 0, 0])"
      ]
     },
     "execution_count": 48,
     "metadata": {},
     "output_type": "execute_result"
    }
   ],
   "source": [
    "CSC_wys"
   ]
  },
  {
   "cell_type": "code",
   "execution_count": 56,
   "id": "06663dee",
   "metadata": {},
   "outputs": [
    {
     "data": {
      "text/plain": [
       "array([0, 0, 0, 0, 0, 0, 0, 0, 0, 0, 1, 0, 0, 0, 1])"
      ]
     },
     "execution_count": 56,
     "metadata": {},
     "output_type": "execute_result"
    }
   ],
   "source": [
    "CSC_wys[0:15]"
   ]
  },
  {
   "cell_type": "markdown",
   "id": "512e9c26",
   "metadata": {
    "id": "512e9c26"
   },
   "source": [
    "### Zadanie 8 "
   ]
  },
  {
   "cell_type": "markdown",
   "id": "3280f546",
   "metadata": {
    "id": "3280f546"
   },
   "source": [
    "Wykorzystując tabelę krzyżową powstałą przy zadaniu 6 wyznaczymy ilorazy szans OR_nis, OR_śr, OR_wys."
   ]
  },
  {
   "cell_type": "code",
   "execution_count": 21,
   "id": "78daf354",
   "metadata": {
    "colab": {
     "base_uri": "https://localhost:8080/",
     "height": 143
    },
    "id": "78daf354",
    "outputId": "f4b766bf-8bca-47cc-ff64-a4b022487a3b"
   },
   "outputs": [
    {
     "data": {
      "text/html": [
       "<div>\n",
       "<style scoped>\n",
       "    .dataframe tbody tr th:only-of-type {\n",
       "        vertical-align: middle;\n",
       "    }\n",
       "\n",
       "    .dataframe tbody tr th {\n",
       "        vertical-align: top;\n",
       "    }\n",
       "\n",
       "    .dataframe thead th {\n",
       "        text-align: right;\n",
       "    }\n",
       "</style>\n",
       "<table border=\"1\" class=\"dataframe\">\n",
       "  <thead>\n",
       "    <tr style=\"text-align: right;\">\n",
       "      <th>CSC</th>\n",
       "      <th>małe</th>\n",
       "      <th>średnie</th>\n",
       "      <th>wysokie</th>\n",
       "    </tr>\n",
       "    <tr>\n",
       "      <th>Churn?</th>\n",
       "      <th></th>\n",
       "      <th></th>\n",
       "      <th></th>\n",
       "    </tr>\n",
       "  </thead>\n",
       "  <tbody>\n",
       "    <tr>\n",
       "      <th>False</th>\n",
       "      <td>1664</td>\n",
       "      <td>1057</td>\n",
       "      <td>129</td>\n",
       "    </tr>\n",
       "    <tr>\n",
       "      <th>True</th>\n",
       "      <td>214</td>\n",
       "      <td>131</td>\n",
       "      <td>138</td>\n",
       "    </tr>\n",
       "  </tbody>\n",
       "</table>\n",
       "</div>"
      ],
      "text/plain": [
       "CSC     małe  średnie  wysokie\n",
       "Churn?                        \n",
       "False   1664     1057      129\n",
       "True     214      131      138"
      ]
     },
     "execution_count": 21,
     "metadata": {},
     "output_type": "execute_result"
    }
   ],
   "source": [
    "tab"
   ]
  },
  {
   "cell_type": "code",
   "execution_count": 61,
   "id": "400d2712",
   "metadata": {
    "id": "400d2712"
   },
   "outputs": [],
   "source": [
    "a = tab.iloc[0,0]"
   ]
  },
  {
   "cell_type": "code",
   "execution_count": 62,
   "id": "e080e071",
   "metadata": {
    "id": "e080e071"
   },
   "outputs": [],
   "source": [
    "b = tab.iloc[0,1]"
   ]
  },
  {
   "cell_type": "code",
   "execution_count": 63,
   "id": "5b4717d5",
   "metadata": {
    "id": "5b4717d5"
   },
   "outputs": [],
   "source": [
    "c = tab.iloc[0,2]"
   ]
  },
  {
   "cell_type": "code",
   "execution_count": 64,
   "id": "60237309",
   "metadata": {
    "id": "60237309"
   },
   "outputs": [],
   "source": [
    "d = tab.iloc[1,0]"
   ]
  },
  {
   "cell_type": "code",
   "execution_count": 65,
   "id": "8b4d0f88",
   "metadata": {
    "id": "8b4d0f88"
   },
   "outputs": [],
   "source": [
    "e = tab.iloc[1,1]"
   ]
  },
  {
   "cell_type": "code",
   "execution_count": 66,
   "id": "f8b9dbe9",
   "metadata": {
    "id": "f8b9dbe9"
   },
   "outputs": [],
   "source": [
    "f = tab.iloc[1,2]"
   ]
  },
  {
   "cell_type": "markdown",
   "id": "zX8Qt0SilX3A",
   "metadata": {
    "id": "zX8Qt0SilX3A"
   },
   "source": [
    "Mała wartość jako kategoria odniesienia. "
   ]
  },
  {
   "cell_type": "code",
   "execution_count": 67,
   "id": "Pastjbx-oerl",
   "metadata": {
    "id": "Pastjbx-oerl"
   },
   "outputs": [],
   "source": [
    "OR_nis = d/a"
   ]
  },
  {
   "cell_type": "code",
   "execution_count": 68,
   "id": "2bz_012miDoY",
   "metadata": {
    "id": "2bz_012miDoY"
   },
   "outputs": [],
   "source": [
    "OR_śr = (a*e)/(b*d)"
   ]
  },
  {
   "cell_type": "code",
   "execution_count": 69,
   "id": "mVr3df0hkTt6",
   "metadata": {
    "id": "mVr3df0hkTt6"
   },
   "outputs": [],
   "source": [
    "OR_wys = (a*f)/(c*d)"
   ]
  },
  {
   "cell_type": "code",
   "execution_count": 70,
   "id": "tkqygDN0pftT",
   "metadata": {
    "colab": {
     "base_uri": "https://localhost:8080/"
    },
    "id": "tkqygDN0pftT",
    "outputId": "44ccc097-f176-44fa-9a33-18253c4469a3"
   },
   "outputs": [
    {
     "name": "stdout",
     "output_type": "stream",
     "text": [
      " OR_nis = 0.12860576923076922 \n",
      " OR_śr = 0.9636866815798548 \n",
      " OR_wys = 8.318191697457074\n"
     ]
    }
   ],
   "source": [
    "print(' OR_nis =',OR_nis,'\\n OR_śr =',OR_śr,'\\n OR_wys =',OR_wys)"
   ]
  },
  {
   "cell_type": "markdown",
   "id": "Q1NbqiZsr-yW",
   "metadata": {
    "id": "Q1NbqiZsr-yW"
   },
   "source": [
    "### Zadanie 9"
   ]
  },
  {
   "cell_type": "markdown",
   "id": "0y2Txh_MuwE9",
   "metadata": {
    "id": "0y2Txh_MuwE9"
   },
   "source": [
    "Obliczymy współczynniki $b_0, b_1, b_2$, gdzie \n",
    "* $b_0$ to logarytm naturalny z ilorazu szans OR_nis\n",
    "* $b_1$ to logarytm naturalny z ilorazu szans OR_śr\n",
    "* $b_2$ to logarytm naturalny z ilorazu szans OR_wys"
   ]
  },
  {
   "cell_type": "markdown",
   "id": "QMOJXYqTs9c8",
   "metadata": {
    "id": "QMOJXYqTs9c8"
   },
   "source": [
    "Na początku  $b_0, b_1, b_2$ dla ilorazów szans dla niskiej wartości jako kategorii odniesienia."
   ]
  },
  {
   "cell_type": "code",
   "execution_count": 71,
   "id": "u1P-56SwsFbb",
   "metadata": {
    "id": "u1P-56SwsFbb"
   },
   "outputs": [],
   "source": [
    "b0 = np.log(OR_nis)"
   ]
  },
  {
   "cell_type": "code",
   "execution_count": 72,
   "id": "Lt-sKNiytCcV",
   "metadata": {
    "id": "Lt-sKNiytCcV"
   },
   "outputs": [],
   "source": [
    "b1 = np.log(OR_śr)"
   ]
  },
  {
   "cell_type": "code",
   "execution_count": 73,
   "id": "FjkN9SZRtGNc",
   "metadata": {
    "id": "FjkN9SZRtGNc"
   },
   "outputs": [],
   "source": [
    "b2 = np.log(OR_wys)"
   ]
  },
  {
   "cell_type": "code",
   "execution_count": 74,
   "id": "WnbqlzV-uIEc",
   "metadata": {
    "colab": {
     "base_uri": "https://localhost:8080/"
    },
    "id": "WnbqlzV-uIEc",
    "outputId": "abc7d001-ecf7-4c2e-9515-d22d75ceaed0"
   },
   "outputs": [
    {
     "name": "stdout",
     "output_type": "stream",
     "text": [
      " b0 = -2.0510036063593025 \n",
      " b1 = -0.03698905630978367 \n",
      " b2 = 2.118444887154835\n"
     ]
    }
   ],
   "source": [
    "print(' b0 =',b0,'\\n b1 =',b1,'\\n b2 =',b2)"
   ]
  },
  {
   "cell_type": "markdown",
   "id": "K7yzkvd2w8Y0",
   "metadata": {
    "id": "K7yzkvd2w8Y0"
   },
   "source": [
    "### Zadanie 10 "
   ]
  },
  {
   "cell_type": "markdown",
   "id": "Jg5W3LnOw-0e",
   "metadata": {
    "id": "Jg5W3LnOw-0e"
   },
   "source": [
    "Zapiszemy funkcje logitowe $g(X = [x,y]) = b_0 + b_1 x + b_2 y$, dla wyznaczonych wyżej wartości współczynników $b_0, b_1, b_2$. \n"
   ]
  },
  {
   "cell_type": "markdown",
   "id": "ce6f7ee3",
   "metadata": {},
   "source": [
    "Najpierw zapisujemy $x, y$ jako symbole wykorzystując przy tym pakiet **sympy**. "
   ]
  },
  {
   "cell_type": "code",
   "execution_count": 75,
   "id": "24b51a28",
   "metadata": {},
   "outputs": [],
   "source": [
    "x = sym.Symbol('x')\n",
    "y = sym.Symbol('y')"
   ]
  },
  {
   "cell_type": "code",
   "execution_count": 76,
   "id": "q4I4xW2extEz",
   "metadata": {
    "id": "q4I4xW2extEz"
   },
   "outputs": [
    {
     "name": "stdout",
     "output_type": "stream",
     "text": [
      "g([x,y]) =  -0.0369890563097837*x + 2.11844488715484*y - 2.0510036063593\n"
     ]
    }
   ],
   "source": [
    "g_n = b0 + b1*x + b2*y\n",
    "print('g([x,y]) = ',g_n)"
   ]
  },
  {
   "cell_type": "markdown",
   "id": "f8852ebb",
   "metadata": {},
   "source": [
    "### Zadanie 11"
   ]
  },
  {
   "cell_type": "markdown",
   "id": "af5d98b4",
   "metadata": {},
   "source": [
    "Zapisz prawdopodobieństwo przeniesienia się\n",
    "$\\Pi (X) = \\frac{e^{g(X)}}{1+e^{g(X)}} $"
   ]
  },
  {
   "cell_type": "markdown",
   "id": "9d062c5d",
   "metadata": {},
   "source": [
    "Prawdopodobieństwo przeniesienia dla niskiej wartości jako kat. odniesienia. "
   ]
  },
  {
   "cell_type": "code",
   "execution_count": 77,
   "id": "f8788416",
   "metadata": {},
   "outputs": [
    {
     "data": {
      "text/latex": [
       "$\\displaystyle \\frac{0.128605769230769 e^{- 0.0369890563097837 x + 2.11844488715484 y}}{0.128605769230769 e^{- 0.0369890563097837 x + 2.11844488715484 y} + 1.0}$"
      ],
      "text/plain": [
       "0.128605769230769*exp(-0.0369890563097837*x + 2.11844488715484*y)/(0.128605769230769*exp(-0.0369890563097837*x + 2.11844488715484*y) + 1.0)"
      ]
     },
     "execution_count": 77,
     "metadata": {},
     "output_type": "execute_result"
    }
   ],
   "source": [
    "((sym.exp(g_n))/(1+sym.exp(g_n))).evalf()"
   ]
  },
  {
   "cell_type": "markdown",
   "id": "5dfdce3c",
   "metadata": {},
   "source": [
    "### Zadanie 12"
   ]
  },
  {
   "cell_type": "markdown",
   "id": "4bee4ced",
   "metadata": {
    "id": "stJSsblJx_X4"
   },
   "source": [
    "Obliczamy prawdopodobieństwa przeniesienia się w zależności od tego, czy klient odbył mało/średnio/dużo rozmów z biurem obsługi klienta. Wykorzystujemy w tym celu naszą tabelę krzyżową. "
   ]
  },
  {
   "cell_type": "code",
   "execution_count": 78,
   "id": "deead61c",
   "metadata": {},
   "outputs": [],
   "source": [
    "P_n = d/(a+d)"
   ]
  },
  {
   "cell_type": "code",
   "execution_count": 79,
   "id": "d8eed250",
   "metadata": {},
   "outputs": [],
   "source": [
    "P_ś = e/(b+e)"
   ]
  },
  {
   "cell_type": "code",
   "execution_count": 80,
   "id": "47dd25ff",
   "metadata": {},
   "outputs": [],
   "source": [
    "P_w = f/(c+f)"
   ]
  },
  {
   "cell_type": "code",
   "execution_count": 81,
   "id": "fd347f39",
   "metadata": {},
   "outputs": [
    {
     "name": "stdout",
     "output_type": "stream",
     "text": [
      " P_n = 0.11395101171458999 \n",
      " P_ś = 0.11026936026936027 \n",
      " P_w = 0.5168539325842697\n"
     ]
    }
   ],
   "source": [
    "print(' P_n =',P_n,'\\n P_ś =',P_ś,'\\n P_w =',P_w)"
   ]
  },
  {
   "cell_type": "markdown",
   "id": "3abec5da",
   "metadata": {},
   "source": [
    "### Zadanie 13"
   ]
  },
  {
   "cell_type": "markdown",
   "id": "f86ede6a",
   "metadata": {},
   "source": [
    "Obliczamy dodatkowo prawdopodobieństwo przeniesienia się bez podziału na liczbę rozmów."
   ]
  },
  {
   "cell_type": "code",
   "execution_count": 45,
   "id": "c10b30f9",
   "metadata": {},
   "outputs": [],
   "source": [
    "P = (d+e+f)/(a+b+c+d+e+f)"
   ]
  },
  {
   "cell_type": "code",
   "execution_count": 46,
   "id": "6471802e",
   "metadata": {},
   "outputs": [
    {
     "name": "stdout",
     "output_type": "stream",
     "text": [
      "P = 0.14491449144914492\n"
     ]
    }
   ],
   "source": [
    "print('P =',P)"
   ]
  },
  {
   "cell_type": "markdown",
   "id": "fe838841",
   "metadata": {},
   "source": [
    "### Zadanie 14"
   ]
  },
  {
   "cell_type": "markdown",
   "id": "b10b1041",
   "metadata": {},
   "source": [
    "Wnioski: Prawdopodobieństwo, że klient się przeniesie wykonując dużo telefonów do BOK wynosi ponad 50%. Prawdopodobieństwo, że się przeniesie wykonując mało/średnio telefonów do BOK jest zbliżone do prawdopodobieństwa przeniesienia się bez podziału na liczbę telefonów do BOK, wszystkie te trzy prawdopodobieństwa należą do przedziału 11-15%. Dlatego też firma jest najbardziej narażona na stratę klientów, którzy wykonali dużo telefonów do BOK. "
   ]
  }
 ],
 "metadata": {
  "colab": {
   "provenance": []
  },
  "kernelspec": {
   "display_name": "Python 3 (ipykernel)",
   "language": "python",
   "name": "python3"
  },
  "language_info": {
   "codemirror_mode": {
    "name": "ipython",
    "version": 3
   },
   "file_extension": ".py",
   "mimetype": "text/x-python",
   "name": "python",
   "nbconvert_exporter": "python",
   "pygments_lexer": "ipython3",
   "version": "3.9.12"
  }
 },
 "nbformat": 4,
 "nbformat_minor": 5
}
